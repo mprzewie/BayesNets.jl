{
 "cells": [
  {
   "cell_type": "markdown",
   "metadata": {},
   "source": [
    "Odtwarzanie \"4.1 Classical case\" z Quantum Inferring Acausal Structures and the Monty Hall Problem"
   ]
  },
  {
   "cell_type": "code",
   "execution_count": 1,
   "metadata": {},
   "outputs": [
    {
     "name": "stderr",
     "output_type": "stream",
     "text": [
      "\u001b[1m\u001b[36mINFO: \u001b[39m\u001b[22m\u001b[36mCloning QI from https://github.com/ZKSI/QI.jl\n",
      "\u001b[39m"
     ]
    },
    {
     "ename": "LoadError",
     "evalue": "\u001b[91mQI already exists\u001b[39m",
     "output_type": "error",
     "traceback": [
      "\u001b[91mQI already exists\u001b[39m",
      "",
      "Stacktrace:",
      " [1] \u001b[1mclone\u001b[22m\u001b[22m\u001b[1m(\u001b[22m\u001b[22m::String, ::SubString{String}\u001b[1m)\u001b[22m\u001b[22m at \u001b[1m./pkg/entry.jl:193\u001b[22m\u001b[22m",
      " [2] \u001b[1m(::Base.Pkg.Dir.##3#6{Array{Any,1},Base.Pkg.Entry.#clone,Tuple{String}})\u001b[22m\u001b[22m\u001b[1m(\u001b[22m\u001b[22m\u001b[1m)\u001b[22m\u001b[22m at \u001b[1m./pkg/dir.jl:33\u001b[22m\u001b[22m",
      " [3] \u001b[1mcd\u001b[22m\u001b[22m\u001b[1m(\u001b[22m\u001b[22m::Base.Pkg.Dir.##3#6{Array{Any,1},Base.Pkg.Entry.#clone,Tuple{String}}, ::String\u001b[1m)\u001b[22m\u001b[22m at \u001b[1m./file.jl:70\u001b[22m\u001b[22m",
      " [4] \u001b[1mwithenv\u001b[22m\u001b[22m\u001b[1m(\u001b[22m\u001b[22m::Base.Pkg.Dir.##2#5{Array{Any,1},Base.Pkg.Entry.#clone,Tuple{String},String}, ::Pair{String,String}, ::Vararg{Pair{String,String},N} where N\u001b[1m)\u001b[22m\u001b[22m at \u001b[1m./env.jl:157\u001b[22m\u001b[22m",
      " [5] \u001b[1m#cd#1\u001b[22m\u001b[22m\u001b[1m(\u001b[22m\u001b[22m::Array{Any,1}, ::Function, ::Function, ::String, ::Vararg{String,N} where N\u001b[1m)\u001b[22m\u001b[22m at \u001b[1m./pkg/dir.jl:32\u001b[22m\u001b[22m",
      " [6] \u001b[1mclone\u001b[22m\u001b[22m\u001b[1m(\u001b[22m\u001b[22m::String\u001b[1m)\u001b[22m\u001b[22m at \u001b[1m./pkg/pkg.jl:169\u001b[22m\u001b[22m",
      " [7] \u001b[1minclude_string\u001b[22m\u001b[22m\u001b[1m(\u001b[22m\u001b[22m::String, ::String\u001b[1m)\u001b[22m\u001b[22m at \u001b[1m./loading.jl:522\u001b[22m\u001b[22m"
     ]
    }
   ],
   "source": [
    "Pkg.clone(\"https://github.com/ZKSI/QI.jl\")"
   ]
  },
  {
   "cell_type": "code",
   "execution_count": 5,
   "metadata": {
    "collapsed": true
   },
   "outputs": [],
   "source": [
    "using QI"
   ]
  },
  {
   "cell_type": "code",
   "execution_count": 7,
   "metadata": {},
   "outputs": [
    {
     "data": {
      "text/plain": [
       "kron (generic function with 13 methods)"
      ]
     },
     "execution_count": 7,
     "metadata": {},
     "output_type": "execute_result"
    }
   ],
   "source": [
    "kron"
   ]
  },
  {
   "cell_type": "code",
   "execution_count": 8,
   "metadata": {},
   "outputs": [
    {
     "data": {
      "text/plain": [
       "id (generic function with 1 method)"
      ]
     },
     "execution_count": 8,
     "metadata": {},
     "output_type": "execute_result"
    }
   ],
   "source": [
    "⋆(A,B)=sqrtm(B)*A*sqrtm(B) # See Eq.(2) in the paper\n",
    "const ⊗=kron\n",
    "maxmix(d) = eye(d)/d\n",
    "id(d) = eye(d)"
   ]
  },
  {
   "cell_type": "code",
   "execution_count": 9,
   "metadata": {},
   "outputs": [
    {
     "data": {
      "text/plain": [
       "3×3 Array{Float64,2}:\n",
       " 0.333333  0.0       0.0     \n",
       " 0.0       0.333333  0.0     \n",
       " 0.0       0.0       0.333333"
      ]
     },
     "execution_count": 9,
     "metadata": {},
     "output_type": "execute_result"
    }
   ],
   "source": [
    "A=diagm([1/3, 1/3, 1/3])\n",
    "B=diagm([1/3, 1/3, 1/3])"
   ]
  },
  {
   "cell_type": "code",
   "execution_count": 10,
   "metadata": {},
   "outputs": [
    {
     "data": {
      "text/plain": [
       "9×9 Array{Float64,2}:\n",
       " 0.111111  0.0       0.0       0.0       …  0.0       0.0       0.0     \n",
       " 0.0       0.111111  0.0       0.0          0.0       0.0       0.0     \n",
       " 0.0       0.0       0.111111  0.0          0.0       0.0       0.0     \n",
       " 0.0       0.0       0.0       0.111111     0.0       0.0       0.0     \n",
       " 0.0       0.0       0.0       0.0          0.0       0.0       0.0     \n",
       " 0.0       0.0       0.0       0.0       …  0.0       0.0       0.0     \n",
       " 0.0       0.0       0.0       0.0          0.111111  0.0       0.0     \n",
       " 0.0       0.0       0.0       0.0          0.0       0.111111  0.0     \n",
       " 0.0       0.0       0.0       0.0          0.0       0.0       0.111111"
      ]
     },
     "execution_count": 10,
     "metadata": {},
     "output_type": "execute_result"
    }
   ],
   "source": [
    "A⊗B"
   ]
  },
  {
   "cell_type": "code",
   "execution_count": 11,
   "metadata": {},
   "outputs": [
    {
     "data": {
      "text/plain": [
       "27×27 Array{Float64,2}:\n",
       " 0.0  0.0  0.0  0.0  0.0  0.0  0.0  0.0  …  0.0  0.0  0.0  0.0  0.0  0.0  0.0\n",
       " 0.0  0.5  0.0  0.0  0.0  0.0  0.0  0.0     0.0  0.0  0.0  0.0  0.0  0.0  0.0\n",
       " 0.0  0.0  0.5  0.0  0.0  0.0  0.0  0.0     0.0  0.0  0.0  0.0  0.0  0.0  0.0\n",
       " 0.0  0.0  0.0  0.0  0.0  0.0  0.0  0.0     0.0  0.0  0.0  0.0  0.0  0.0  0.0\n",
       " 0.0  0.0  0.0  0.0  0.0  0.0  0.0  0.0     0.0  0.0  0.0  0.0  0.0  0.0  0.0\n",
       " 0.0  0.0  0.0  0.0  0.0  1.0  0.0  0.0  …  0.0  0.0  0.0  0.0  0.0  0.0  0.0\n",
       " 0.0  0.0  0.0  0.0  0.0  0.0  0.0  0.0     0.0  0.0  0.0  0.0  0.0  0.0  0.0\n",
       " 0.0  0.0  0.0  0.0  0.0  0.0  0.0  1.0     0.0  0.0  0.0  0.0  0.0  0.0  0.0\n",
       " 0.0  0.0  0.0  0.0  0.0  0.0  0.0  0.0     0.0  0.0  0.0  0.0  0.0  0.0  0.0\n",
       " 0.0  0.0  0.0  0.0  0.0  0.0  0.0  0.0     0.0  0.0  0.0  0.0  0.0  0.0  0.0\n",
       " 0.0  0.0  0.0  0.0  0.0  0.0  0.0  0.0  …  0.0  0.0  0.0  0.0  0.0  0.0  0.0\n",
       " 0.0  0.0  0.0  0.0  0.0  0.0  0.0  0.0     0.0  0.0  0.0  0.0  0.0  0.0  0.0\n",
       " 0.0  0.0  0.0  0.0  0.0  0.0  0.0  0.0     0.0  0.0  0.0  0.0  0.0  0.0  0.0\n",
       " ⋮                        ⋮              ⋱  ⋮                        ⋮       \n",
       " 0.0  0.0  0.0  0.0  0.0  0.0  0.0  0.0  …  0.0  0.0  0.0  0.0  0.0  0.0  0.0\n",
       " 0.0  0.0  0.0  0.0  0.0  0.0  0.0  0.0     0.0  0.0  0.0  0.0  0.0  0.0  0.0\n",
       " 0.0  0.0  0.0  0.0  0.0  0.0  0.0  0.0     0.0  0.0  0.0  0.0  0.0  0.0  0.0\n",
       " 0.0  0.0  0.0  0.0  0.0  0.0  0.0  0.0     0.0  0.0  0.0  0.0  0.0  0.0  0.0\n",
       " 0.0  0.0  0.0  0.0  0.0  0.0  0.0  0.0     0.0  0.0  0.0  0.0  0.0  0.0  0.0\n",
       " 0.0  0.0  0.0  0.0  0.0  0.0  0.0  0.0  …  0.0  0.0  0.0  0.0  0.0  0.0  0.0\n",
       " 0.0  0.0  0.0  0.0  0.0  0.0  0.0  0.0     0.0  1.0  0.0  0.0  0.0  0.0  0.0\n",
       " 0.0  0.0  0.0  0.0  0.0  0.0  0.0  0.0     0.0  0.0  0.0  0.0  0.0  0.0  0.0\n",
       " 0.0  0.0  0.0  0.0  0.0  0.0  0.0  0.0     0.0  0.0  0.0  0.0  0.0  0.0  0.0\n",
       " 0.0  0.0  0.0  0.0  0.0  0.0  0.0  0.0     0.0  0.0  0.0  0.0  0.5  0.0  0.0\n",
       " 0.0  0.0  0.0  0.0  0.0  0.0  0.0  0.0  …  0.0  0.0  0.0  0.0  0.0  0.5  0.0\n",
       " 0.0  0.0  0.0  0.0  0.0  0.0  0.0  0.0     0.0  0.0  0.0  0.0  0.0  0.0  0.0"
      ]
     },
     "execution_count": 11,
     "metadata": {},
     "output_type": "execute_result"
    }
   ],
   "source": [
    "roCwAB = diagm([0,1/2,1/2, 0,0,1, 0,1,0,\n",
    "        0,0,1, 1/2,0,1/2, 1,0,0, \n",
    "        0,1,0, 1,0,0, 1/2,1/2,0]); #(12)\n",
    "roCwAB"
   ]
  },
  {
   "cell_type": "code",
   "execution_count": 12,
   "metadata": {},
   "outputs": [
    {
     "data": {
      "text/plain": [
       "9.0"
      ]
     },
     "execution_count": 12,
     "metadata": {},
     "output_type": "execute_result"
    }
   ],
   "source": [
    "trace(roCwAB)"
   ]
  },
  {
   "cell_type": "code",
   "execution_count": 13,
   "metadata": {},
   "outputs": [
    {
     "data": {
      "text/plain": [
       "27×27 Array{Float64,2}:\n",
       " 0.0  0.0        0.0        0.0  0.0  …  0.0  0.0  0.0        0.0        0.0\n",
       " 0.0  0.0555556  0.0        0.0  0.0     0.0  0.0  0.0        0.0        0.0\n",
       " 0.0  0.0        0.0555556  0.0  0.0     0.0  0.0  0.0        0.0        0.0\n",
       " 0.0  0.0        0.0        0.0  0.0     0.0  0.0  0.0        0.0        0.0\n",
       " 0.0  0.0        0.0        0.0  0.0     0.0  0.0  0.0        0.0        0.0\n",
       " 0.0  0.0        0.0        0.0  0.0  …  0.0  0.0  0.0        0.0        0.0\n",
       " 0.0  0.0        0.0        0.0  0.0     0.0  0.0  0.0        0.0        0.0\n",
       " 0.0  0.0        0.0        0.0  0.0     0.0  0.0  0.0        0.0        0.0\n",
       " 0.0  0.0        0.0        0.0  0.0     0.0  0.0  0.0        0.0        0.0\n",
       " 0.0  0.0        0.0        0.0  0.0     0.0  0.0  0.0        0.0        0.0\n",
       " 0.0  0.0        0.0        0.0  0.0  …  0.0  0.0  0.0        0.0        0.0\n",
       " 0.0  0.0        0.0        0.0  0.0     0.0  0.0  0.0        0.0        0.0\n",
       " 0.0  0.0        0.0        0.0  0.0     0.0  0.0  0.0        0.0        0.0\n",
       " ⋮                                    ⋱                       ⋮             \n",
       " 0.0  0.0        0.0        0.0  0.0  …  0.0  0.0  0.0        0.0        0.0\n",
       " 0.0  0.0        0.0        0.0  0.0     0.0  0.0  0.0        0.0        0.0\n",
       " 0.0  0.0        0.0        0.0  0.0     0.0  0.0  0.0        0.0        0.0\n",
       " 0.0  0.0        0.0        0.0  0.0     0.0  0.0  0.0        0.0        0.0\n",
       " 0.0  0.0        0.0        0.0  0.0     0.0  0.0  0.0        0.0        0.0\n",
       " 0.0  0.0        0.0        0.0  0.0  …  0.0  0.0  0.0        0.0        0.0\n",
       " 0.0  0.0        0.0        0.0  0.0     0.0  0.0  0.0        0.0        0.0\n",
       " 0.0  0.0        0.0        0.0  0.0     0.0  0.0  0.0        0.0        0.0\n",
       " 0.0  0.0        0.0        0.0  0.0     0.0  0.0  0.0        0.0        0.0\n",
       " 0.0  0.0        0.0        0.0  0.0     0.0  0.0  0.0555556  0.0        0.0\n",
       " 0.0  0.0        0.0        0.0  0.0  …  0.0  0.0  0.0        0.0555556  0.0\n",
       " 0.0  0.0        0.0        0.0  0.0     0.0  0.0  0.0        0.0        0.0"
      ]
     },
     "execution_count": 13,
     "metadata": {},
     "output_type": "execute_result"
    }
   ],
   "source": [
    "ABC = roCwAB⋆((A⊗id(3)⊗id(3))⋆(id(3)⊗B⊗id(3))) #(13)\n",
    "#ABC=1/9*roCwAB"
   ]
  },
  {
   "cell_type": "code",
   "execution_count": 14,
   "metadata": {},
   "outputs": [
    {
     "data": {
      "text/plain": [
       "1.0000000000000002"
      ]
     },
     "execution_count": 14,
     "metadata": {},
     "output_type": "execute_result"
    }
   ],
   "source": [
    "trace(ABC)"
   ]
  },
  {
   "cell_type": "code",
   "execution_count": 15,
   "metadata": {},
   "outputs": [
    {
     "data": {
      "text/plain": [
       "true"
      ]
     },
     "execution_count": 15,
     "metadata": {},
     "output_type": "execute_result"
    }
   ],
   "source": [
    "ABC==1/9*roCwAB"
   ]
  },
  {
   "cell_type": "code",
   "execution_count": 16,
   "metadata": {},
   "outputs": [
    {
     "data": {
      "text/plain": [
       "3×3 Array{Complex{Float64},2}:\n",
       " 1.0+0.0im  0.0+0.0im  0.0+0.0im\n",
       " 0.0+0.0im  0.0+0.0im  0.0+0.0im\n",
       " 0.0+0.0im  0.0+0.0im  0.0+0.0im"
      ]
     },
     "execution_count": 16,
     "metadata": {},
     "output_type": "execute_result"
    }
   ],
   "source": [
    "# B=0 \n",
    "# ket to wektor |b> bra to wektor <b| (notacja Diraca) \n",
    "# funkcja ketbra realizuje  operator |><| ostatni argument to wymiar wektora (3)\n",
    "\n",
    "boper = ketbra(0,0,3)"
   ]
  },
  {
   "cell_type": "code",
   "execution_count": 17,
   "metadata": {},
   "outputs": [
    {
     "data": {
      "text/plain": [
       "27×27 Array{Complex{Float64},2}:\n",
       " 0.0+0.0im       0.0+0.0im  …  0.0+0.0im  0.0+0.0im  0.0+0.0im\n",
       " 0.0+0.0im  0.166667+0.0im     0.0+0.0im  0.0+0.0im  0.0+0.0im\n",
       " 0.0+0.0im       0.0+0.0im     0.0+0.0im  0.0+0.0im  0.0+0.0im\n",
       " 0.0+0.0im       0.0+0.0im     0.0+0.0im  0.0+0.0im  0.0+0.0im\n",
       " 0.0+0.0im       0.0+0.0im     0.0+0.0im  0.0+0.0im  0.0+0.0im\n",
       " 0.0+0.0im       0.0+0.0im  …  0.0+0.0im  0.0+0.0im  0.0+0.0im\n",
       " 0.0+0.0im       0.0+0.0im     0.0+0.0im  0.0+0.0im  0.0+0.0im\n",
       " 0.0+0.0im       0.0+0.0im     0.0+0.0im  0.0+0.0im  0.0+0.0im\n",
       " 0.0+0.0im       0.0+0.0im     0.0+0.0im  0.0+0.0im  0.0+0.0im\n",
       " 0.0+0.0im       0.0+0.0im     0.0+0.0im  0.0+0.0im  0.0+0.0im\n",
       " 0.0+0.0im       0.0+0.0im  …  0.0+0.0im  0.0+0.0im  0.0+0.0im\n",
       " 0.0+0.0im       0.0+0.0im     0.0+0.0im  0.0+0.0im  0.0+0.0im\n",
       " 0.0+0.0im       0.0+0.0im     0.0+0.0im  0.0+0.0im  0.0+0.0im\n",
       "    ⋮                       ⋱                ⋮                \n",
       " 0.0+0.0im       0.0+0.0im  …  0.0+0.0im  0.0+0.0im  0.0+0.0im\n",
       " 0.0+0.0im       0.0+0.0im     0.0+0.0im  0.0+0.0im  0.0+0.0im\n",
       " 0.0+0.0im       0.0+0.0im     0.0+0.0im  0.0+0.0im  0.0+0.0im\n",
       " 0.0+0.0im       0.0+0.0im     0.0+0.0im  0.0+0.0im  0.0+0.0im\n",
       " 0.0+0.0im       0.0+0.0im     0.0+0.0im  0.0+0.0im  0.0+0.0im\n",
       " 0.0+0.0im       0.0+0.0im  …  0.0+0.0im  0.0+0.0im  0.0+0.0im\n",
       " 0.0+0.0im       0.0+0.0im     0.0+0.0im  0.0+0.0im  0.0+0.0im\n",
       " 0.0+0.0im       0.0+0.0im     0.0+0.0im  0.0+0.0im  0.0+0.0im\n",
       " 0.0+0.0im       0.0+0.0im     0.0+0.0im  0.0+0.0im  0.0+0.0im\n",
       " 0.0+0.0im       0.0+0.0im     0.0+0.0im  0.0+0.0im  0.0+0.0im\n",
       " 0.0+0.0im       0.0+0.0im  …  0.0+0.0im  0.0+0.0im  0.0+0.0im\n",
       " 0.0+0.0im       0.0+0.0im     0.0+0.0im  0.0+0.0im  0.0+0.0im"
      ]
     },
     "execution_count": 17,
     "metadata": {},
     "output_type": "execute_result"
    }
   ],
   "source": [
    "roAbC = ((id(3) ⊗ boper ⊗ id(3))*ABC*(id(3) ⊗ boper ⊗ id(3)))/trace((id(3) ⊗ boper ⊗ id(3))*ABC) #(14)"
   ]
  },
  {
   "cell_type": "code",
   "execution_count": 18,
   "metadata": {},
   "outputs": [
    {
     "data": {
      "text/plain": [
       "3×3 Array{Complex{Float64},2}:\n",
       " 0.0+0.0im  0.0+0.0im  0.0+0.0im\n",
       " 0.0+0.0im  1.0+0.0im  0.0+0.0im\n",
       " 0.0+0.0im  0.0+0.0im  0.0+0.0im"
      ]
     },
     "execution_count": 18,
     "metadata": {},
     "output_type": "execute_result"
    }
   ],
   "source": [
    "#C=1\n",
    "coper = ketbra(1,1,3)"
   ]
  },
  {
   "cell_type": "code",
   "execution_count": 19,
   "metadata": {},
   "outputs": [
    {
     "data": {
      "text/plain": [
       "27×27 Array{Complex{Float64},2}:\n",
       " 0.0+0.0im       0.0+0.0im  0.0+0.0im  …  0.0+0.0im  0.0+0.0im  0.0+0.0im\n",
       " 0.0+0.0im  0.333333+0.0im  0.0+0.0im     0.0+0.0im  0.0+0.0im  0.0+0.0im\n",
       " 0.0+0.0im       0.0+0.0im  0.0+0.0im     0.0+0.0im  0.0+0.0im  0.0+0.0im\n",
       " 0.0+0.0im       0.0+0.0im  0.0+0.0im     0.0+0.0im  0.0+0.0im  0.0+0.0im\n",
       " 0.0+0.0im       0.0+0.0im  0.0+0.0im     0.0+0.0im  0.0+0.0im  0.0+0.0im\n",
       " 0.0+0.0im       0.0+0.0im  0.0+0.0im  …  0.0+0.0im  0.0+0.0im  0.0+0.0im\n",
       " 0.0+0.0im       0.0+0.0im  0.0+0.0im     0.0+0.0im  0.0+0.0im  0.0+0.0im\n",
       " 0.0+0.0im       0.0+0.0im  0.0+0.0im     0.0+0.0im  0.0+0.0im  0.0+0.0im\n",
       " 0.0+0.0im       0.0+0.0im  0.0+0.0im     0.0+0.0im  0.0+0.0im  0.0+0.0im\n",
       " 0.0+0.0im       0.0+0.0im  0.0+0.0im     0.0+0.0im  0.0+0.0im  0.0+0.0im\n",
       " 0.0+0.0im       0.0+0.0im  0.0+0.0im  …  0.0+0.0im  0.0+0.0im  0.0+0.0im\n",
       " 0.0+0.0im       0.0+0.0im  0.0+0.0im     0.0+0.0im  0.0+0.0im  0.0+0.0im\n",
       " 0.0+0.0im       0.0+0.0im  0.0+0.0im     0.0+0.0im  0.0+0.0im  0.0+0.0im\n",
       "    ⋮                                  ⋱                ⋮                \n",
       " 0.0+0.0im       0.0+0.0im  0.0+0.0im  …  0.0+0.0im  0.0+0.0im  0.0+0.0im\n",
       " 0.0+0.0im       0.0+0.0im  0.0+0.0im     0.0+0.0im  0.0+0.0im  0.0+0.0im\n",
       " 0.0+0.0im       0.0+0.0im  0.0+0.0im     0.0+0.0im  0.0+0.0im  0.0+0.0im\n",
       " 0.0+0.0im       0.0+0.0im  0.0+0.0im     0.0+0.0im  0.0+0.0im  0.0+0.0im\n",
       " 0.0+0.0im       0.0+0.0im  0.0+0.0im     0.0+0.0im  0.0+0.0im  0.0+0.0im\n",
       " 0.0+0.0im       0.0+0.0im  0.0+0.0im  …  0.0+0.0im  0.0+0.0im  0.0+0.0im\n",
       " 0.0+0.0im       0.0+0.0im  0.0+0.0im     0.0+0.0im  0.0+0.0im  0.0+0.0im\n",
       " 0.0+0.0im       0.0+0.0im  0.0+0.0im     0.0+0.0im  0.0+0.0im  0.0+0.0im\n",
       " 0.0+0.0im       0.0+0.0im  0.0+0.0im     0.0+0.0im  0.0+0.0im  0.0+0.0im\n",
       " 0.0+0.0im       0.0+0.0im  0.0+0.0im     0.0+0.0im  0.0+0.0im  0.0+0.0im\n",
       " 0.0+0.0im       0.0+0.0im  0.0+0.0im  …  0.0+0.0im  0.0+0.0im  0.0+0.0im\n",
       " 0.0+0.0im       0.0+0.0im  0.0+0.0im     0.0+0.0im  0.0+0.0im  0.0+0.0im"
      ]
     },
     "execution_count": 19,
     "metadata": {},
     "output_type": "execute_result"
    }
   ],
   "source": [
    "roAbc=((id(3) ⊗ id(3) ⊗ coper)*roAbC*(id(3) ⊗ id(3) ⊗  coper))/trace((id(3) ⊗ id(3) ⊗  coper)*roAbC) #(15)"
   ]
  },
  {
   "cell_type": "code",
   "execution_count": 20,
   "metadata": {},
   "outputs": [
    {
     "data": {
      "text/plain": [
       "3×3 Array{Complex{Float64},2}:\n",
       " 0.333333+0.0im  0.0+0.0im       0.0+0.0im\n",
       "      0.0+0.0im  0.0+0.0im       0.0+0.0im\n",
       "      0.0+0.0im  0.0+0.0im  0.666667+0.0im"
      ]
     },
     "execution_count": 20,
     "metadata": {},
     "output_type": "execute_result"
    }
   ],
   "source": [
    "roAbct=ptrace(roAbc,[3,3,3],[2,3]) #(16)"
   ]
  },
  {
   "cell_type": "markdown",
   "metadata": {
    "collapsed": true
   },
   "source": [
    "Odtworzenie kwantowe"
   ]
  },
  {
   "cell_type": "code",
   "execution_count": 21,
   "metadata": {},
   "outputs": [
    {
     "data": {
      "text/plain": [
       "9×9 Array{Complex{Float64},2}:\n",
       " 0.333333+0.0im  0.0+0.0im  0.0+0.0im  …  0.0+0.0im  0.333333+0.0im\n",
       "      0.0+0.0im  0.0+0.0im  0.0+0.0im     0.0+0.0im       0.0+0.0im\n",
       "      0.0+0.0im  0.0+0.0im  0.0+0.0im     0.0+0.0im       0.0+0.0im\n",
       "      0.0+0.0im  0.0+0.0im  0.0+0.0im     0.0+0.0im       0.0+0.0im\n",
       " 0.333333+0.0im  0.0+0.0im  0.0+0.0im     0.0+0.0im  0.333333+0.0im\n",
       "      0.0+0.0im  0.0+0.0im  0.0+0.0im  …  0.0+0.0im       0.0+0.0im\n",
       "      0.0+0.0im  0.0+0.0im  0.0+0.0im     0.0+0.0im       0.0+0.0im\n",
       "      0.0+0.0im  0.0+0.0im  0.0+0.0im     0.0+0.0im       0.0+0.0im\n",
       " 0.333333+0.0im  0.0+0.0im  0.0+0.0im     0.0+0.0im  0.333333+0.0im"
      ]
     },
     "execution_count": 21,
     "metadata": {},
     "output_type": "execute_result"
    }
   ],
   "source": [
    "rofAB=1/3*(ket(0,9)+ket(4,9)+ket(8,9))* (bra(0,9)+bra(4,9)+bra(8,9)) #18"
   ]
  },
  {
   "cell_type": "code",
   "execution_count": 22,
   "metadata": {},
   "outputs": [
    {
     "data": {
      "text/plain": [
       "27×27 Array{Float64,2}:\n",
       " 0.0  0.0  0.0  0.0  0.0  0.0  0.0  0.0  …  0.0  0.0  0.0  0.0  0.0  0.0  0.0\n",
       " 0.0  0.5  0.0  0.0  0.0  0.0  0.0  0.0     0.0  0.0  0.0  0.0  0.0  0.0  0.0\n",
       " 0.0  0.0  0.5  0.0  0.0  0.0  0.0  0.0     0.0  0.0  0.0  0.0  0.0  0.0  0.0\n",
       " 0.0  0.0  0.0  0.0  0.0  0.0  0.0  0.0     0.0  0.0  0.0  0.0  0.0  0.0  0.0\n",
       " 0.0  0.0  0.0  0.0  0.0  0.0  0.0  0.0     0.0  0.0  0.0  0.0  0.0  0.0  0.0\n",
       " 0.0  0.0  0.0  0.0  0.0  1.0  0.0  0.0  …  0.0  0.0  0.0  0.0  0.0  0.0  0.0\n",
       " 0.0  0.0  0.0  0.0  0.0  0.0  0.0  0.0     0.0  0.0  0.0  0.0  0.0  0.0  0.0\n",
       " 0.0  0.0  0.0  0.0  0.0  0.0  0.0  1.0     0.0  0.0  0.0  0.0  0.0  0.0  0.0\n",
       " 0.0  0.0  0.0  0.0  0.0  0.0  0.0  0.0     0.0  0.0  0.0  0.0  0.0  0.0  0.0\n",
       " 0.0  0.0  0.0  0.0  0.0  0.0  0.0  0.0     0.0  0.0  0.0  0.0  0.0  0.0  0.0\n",
       " 0.0  0.0  0.0  0.0  0.0  0.0  0.0  0.0  …  0.0  0.0  0.0  0.0  0.0  0.0  0.0\n",
       " 0.0  0.0  0.0  0.0  0.0  0.0  0.0  0.0     0.0  0.0  0.0  0.0  0.0  0.0  0.0\n",
       " 0.0  0.0  0.0  0.0  0.0  0.0  0.0  0.0     0.0  0.0  0.0  0.0  0.0  0.0  0.0\n",
       " ⋮                        ⋮              ⋱  ⋮                        ⋮       \n",
       " 0.0  0.0  0.0  0.0  0.0  0.0  0.0  0.0  …  0.0  0.0  0.0  0.0  0.0  0.0  0.0\n",
       " 0.0  0.0  0.0  0.0  0.0  0.0  0.0  0.0     0.0  0.0  0.0  0.0  0.0  0.0  0.0\n",
       " 0.0  0.0  0.0  0.0  0.0  0.0  0.0  0.0     0.0  0.0  0.0  0.0  0.0  0.0  0.0\n",
       " 0.0  0.0  0.0  0.0  0.0  0.0  0.0  0.0     0.0  0.0  0.0  0.0  0.0  0.0  0.0\n",
       " 0.0  0.0  0.0  0.0  0.0  0.0  0.0  0.0     0.0  0.0  0.0  0.0  0.0  0.0  0.0\n",
       " 0.0  0.0  0.0  0.0  0.0  0.0  0.0  0.0  …  0.0  0.0  0.0  0.0  0.0  0.0  0.0\n",
       " 0.0  0.0  0.0  0.0  0.0  0.0  0.0  0.0     0.0  1.0  0.0  0.0  0.0  0.0  0.0\n",
       " 0.0  0.0  0.0  0.0  0.0  0.0  0.0  0.0     0.0  0.0  0.0  0.0  0.0  0.0  0.0\n",
       " 0.0  0.0  0.0  0.0  0.0  0.0  0.0  0.0     0.0  0.0  0.0  0.0  0.0  0.0  0.0\n",
       " 0.0  0.0  0.0  0.0  0.0  0.0  0.0  0.0     0.0  0.0  0.0  0.0  0.5  0.0  0.0\n",
       " 0.0  0.0  0.0  0.0  0.0  0.0  0.0  0.0  …  0.0  0.0  0.0  0.0  0.0  0.5  0.0\n",
       " 0.0  0.0  0.0  0.0  0.0  0.0  0.0  0.0     0.0  0.0  0.0  0.0  0.0  0.0  0.0"
      ]
     },
     "execution_count": 22,
     "metadata": {},
     "output_type": "execute_result"
    }
   ],
   "source": [
    "roCwAB = diagm([0,1/2,1/2, 0,0,1, 0,1,0,\n",
    "        0,0,1, 1/2,0,1/2, 1,0,0, \n",
    "        0,1,0, 1,0,0, 1/2,1/2,0]) #(12)"
   ]
  },
  {
   "cell_type": "code",
   "execution_count": 23,
   "metadata": {},
   "outputs": [
    {
     "data": {
      "text/plain": [
       "3×3 Array{Complex{Float64},2}:\n",
       " 0.333333+0.0im       0.0+0.0im       0.0+0.0im\n",
       "      0.0+0.0im  0.333333+0.0im       0.0+0.0im\n",
       "      0.0+0.0im       0.0+0.0im  0.333333+0.0im"
      ]
     },
     "execution_count": 23,
     "metadata": {},
     "output_type": "execute_result"
    }
   ],
   "source": [
    "ptrace(rofAB,[3,3],[1,])"
   ]
  },
  {
   "cell_type": "code",
   "execution_count": 24,
   "metadata": {},
   "outputs": [
    {
     "data": {
      "text/plain": [
       "3×3 Array{Complex{Float64},2}:\n",
       " 0.333333+0.0im       0.0+0.0im       0.0+0.0im\n",
       "      0.0+0.0im  0.333333+0.0im       0.0+0.0im\n",
       "      0.0+0.0im       0.0+0.0im  0.333333+0.0im"
      ]
     },
     "execution_count": 24,
     "metadata": {},
     "output_type": "execute_result"
    }
   ],
   "source": [
    "ptrace(rofAB,[3,3],[2,])"
   ]
  },
  {
   "cell_type": "code",
   "execution_count": 25,
   "metadata": {
    "collapsed": true
   },
   "outputs": [],
   "source": [
    "roCwAB = diagm([0,1/2,1/2, 0,0,1, 0,1,0,\n",
    "        0,0,1, 1/2,0,1/2, 1,0,0, \n",
    "        0,1,0, 1,0,0, 1/2,1/2,0]); #(12)"
   ]
  },
  {
   "cell_type": "code",
   "execution_count": 26,
   "metadata": {},
   "outputs": [
    {
     "data": {
      "text/plain": [
       "27×27 Array{Complex{Float64},2}:\n",
       "      0.111111-6.43572e-19im   …    9.61677e-27-2.28361e-51im \n",
       "  -1.00048e-17-2.07477e-28im       -1.16833e-17-1.09186e-66im \n",
       "  -3.28684e-11-1.90379e-28im           0.111111+1.42171e-67im \n",
       " -1.09749e-105-5.71776e-122im      1.76128e-137+0.0im         \n",
       "   1.87358e-91+8.77311e-108im      4.66156e-126+0.0im         \n",
       "   1.94209e-83+8.65179e-100im  …  -2.96503e-116+0.0im         \n",
       "  -2.30134e-82-2.82918e-84im       2.07559e-114+2.54292e-117im\n",
       "   4.34624e-67-3.98266e-66im      -8.85707e-100-2.35803e-98im \n",
       "   1.89707e-67-9.0893e-60im        -1.68685e-99+6.97771e-90im \n",
       "  -6.66519e-58-9.08931e-60im       -1.78547e-89+3.224e-90im   \n",
       "   8.85141e-42-5.91218e-44im   …   -7.83394e-74-2.3185e-74im  \n",
       "  -2.50815e-35-5.54603e-44im        1.25673e-66-1.76589e-74im \n",
       "      0.111111-4.81482e-35im        1.17709e-26-4.84376e-51im \n",
       "              ⋮                ⋱                              \n",
       "  -2.36072e-33-2.50707e-34im   …   -6.15232e-65-2.99754e-66im \n",
       "   4.79482e-19-2.68278e-19im       -1.83633e-50+2.49532e-50im \n",
       "  -2.00713e-20+1.57174e-19im       -4.92641e-43-9.74471e-51im \n",
       "  -4.76279e-19+6.27002e-19im       -2.13867e-42+1.68633e-51im \n",
       "  -5.84756e-19+8.3066e-19im        -1.87037e-42-1.59762e-50im \n",
       "   5.28352e-19-7.26738e-19im   …    3.36404e-41-2.85352e-51im \n",
       "   7.64031e-11+4.42539e-28im       -2.00251e-26+7.67976e-66im \n",
       "   1.93261e-11+1.11939e-28im       -2.72067e-27+8.79984e-66im \n",
       "   2.45667e-10+1.42294e-27im        5.31334e-27+7.46925e-68im \n",
       "      0.111111-3.21786e-19im       -2.18888e-26+3.64895e-66im \n",
       "   3.58204e-11+1.69231e-34im   …   -1.16833e-17-7.27044e-82im \n",
       "   7.46266e-27-2.28361e-51im           0.111111+0.0im         "
      ]
     },
     "execution_count": 26,
     "metadata": {},
     "output_type": "execute_result"
    }
   ],
   "source": [
    "ABC = roCwAB⋆(rofAB⊗id(3))"
   ]
  },
  {
   "cell_type": "code",
   "execution_count": 27,
   "metadata": {},
   "outputs": [
    {
     "data": {
      "text/plain": [
       "0.9999999999999994 + 5.819208098868708e-35im"
      ]
     },
     "execution_count": 27,
     "metadata": {},
     "output_type": "execute_result"
    }
   ],
   "source": [
    "trace(ABC)"
   ]
  },
  {
   "cell_type": "code",
   "execution_count": 28,
   "metadata": {},
   "outputs": [
    {
     "data": {
      "text/plain": [
       "3×3 Array{Complex{Float64},2}:\n",
       " 1.0+0.0im  0.0+0.0im  0.0+0.0im\n",
       " 0.0+0.0im  0.0+0.0im  0.0+0.0im\n",
       " 0.0+0.0im  0.0+0.0im  0.0+0.0im"
      ]
     },
     "execution_count": 28,
     "metadata": {},
     "output_type": "execute_result"
    }
   ],
   "source": [
    "# B=0\n",
    "boper = ketbra(0,0,3)"
   ]
  },
  {
   "cell_type": "code",
   "execution_count": 29,
   "metadata": {
    "collapsed": true
   },
   "outputs": [],
   "source": [
    "roAbC = ((id(3) ⊗ boper ⊗ id(3))*ABC*(id(3) ⊗ boper ⊗ id(3)))/trace((id(3) ⊗ boper ⊗ id(3))*ABC); #(14)"
   ]
  },
  {
   "cell_type": "code",
   "execution_count": 30,
   "metadata": {
    "collapsed": true
   },
   "outputs": [],
   "source": [
    "#C=1\n",
    "coper = ketbra(1,1,3);"
   ]
  },
  {
   "cell_type": "code",
   "execution_count": 31,
   "metadata": {
    "collapsed": true
   },
   "outputs": [],
   "source": [
    "roAbc=((id(3) ⊗ id(3) ⊗ coper)*roAbC*(id(3) ⊗ id(3) ⊗  coper))/trace((id(3) ⊗ id(3) ⊗  coper)*roAbC); #(15)"
   ]
  },
  {
   "cell_type": "code",
   "execution_count": 32,
   "metadata": {},
   "outputs": [
    {
     "data": {
      "text/plain": [
       "3×3 Array{Complex{Float64},2}:\n",
       "         1.0-4.62223e-33im  …   6.02209e-25+4.82024e-27im\n",
       " 5.13639e-50-3.4308e-52im       5.37013e-57-9.23177e-58im\n",
       " 6.02209e-25+4.82024e-27im     -2.17099e-33+4.51621e-33im"
      ]
     },
     "execution_count": 32,
     "metadata": {},
     "output_type": "execute_result"
    }
   ],
   "source": [
    "roAbct=ptrace(roAbc,[3,3,3],[2,3]) #(16)"
   ]
  },
  {
   "cell_type": "code",
   "execution_count": 33,
   "metadata": {},
   "outputs": [
    {
     "data": {
      "text/plain": [
       "calculateAll (generic function with 1 method)"
      ]
     },
     "execution_count": 33,
     "metadata": {},
     "output_type": "execute_result"
    }
   ],
   "source": [
    "# funkcja, która wykonuje operacje 13-16\n",
    "\n",
    "# roCwAB => to, co w BayesNets jest CPD\n",
    "# AB => splątanie A i B\n",
    "#B, C => faktyczne wartości B i C \n",
    "function calculateAll(AB,roCwAB, B, C)\n",
    "    ABC = roCwAB⋆(AB⊗id(3))\n",
    "    boper = ketbra(B,B,3)\n",
    "    coper = ketbra(C,C,3);\n",
    "    roAbC = ((id(3) ⊗ boper ⊗ id(3))*ABC*(id(3) ⊗ boper ⊗ id(3)))/trace((id(3) ⊗ boper ⊗ id(3))*ABC); #(14)\n",
    "    roAbc=((id(3) ⊗ id(3) ⊗ coper)*roAbC*(id(3) ⊗ id(3) ⊗  coper))/trace((id(3) ⊗ id(3) ⊗  coper)*roAbC) #(15)\n",
    "    roAbct=ptrace(roAbc,[3,3,3],[2,3]) #(16)\n",
    "end\n"
   ]
  },
  {
   "cell_type": "markdown",
   "metadata": {},
   "source": [
    "\n",
    "Będziemy stosować calculateAll do różnych przypadków omówionych w artykule"
   ]
  },
  {
   "cell_type": "code",
   "execution_count": 34,
   "metadata": {},
   "outputs": [
    {
     "data": {
      "text/plain": [
       "3×3 Array{Complex{Float64},2}:\n",
       "         1.0-4.62223e-33im  …   6.02209e-25+4.82024e-27im\n",
       " 5.13639e-50-3.4308e-52im       5.37013e-57-9.23177e-58im\n",
       " 6.02209e-25+4.82024e-27im     -2.17099e-33+4.51621e-33im"
      ]
     },
     "execution_count": 34,
     "metadata": {},
     "output_type": "execute_result"
    }
   ],
   "source": [
    "\n",
    "AB1=1/3*(ket(0,9)+ket(4,9)+ket(8,9))* (bra(0,9)+bra(4,9)+bra(8,9)) \n",
    "roCwAB = diagm([0,1/2,1/2, 0,0,1, 0,1,0,\n",
    "        0,0,1, 1/2,0,1/2, 1,0,0, \n",
    "        0,1,0, 1,0,0, 1/2,1/2,0]); #(12)\n",
    "calculateAll(AB1,roCwAB,0,1)"
   ]
  },
  {
   "cell_type": "code",
   "execution_count": 35,
   "metadata": {},
   "outputs": [
    {
     "data": {
      "text/plain": [
       "9×9 Array{Complex{Float64},2}:\n",
       " 0.0+0.0im       0.0+0.0im       0.0+0.0im  …       0.0+0.0im  0.0+0.0im\n",
       " 0.0+0.0im  0.166667+0.0im       0.0+0.0im          0.0+0.0im  0.0+0.0im\n",
       " 0.0+0.0im       0.0+0.0im  0.166667+0.0im          0.0+0.0im  0.0+0.0im\n",
       " 0.0+0.0im  0.166667+0.0im       0.0+0.0im          0.0+0.0im  0.0+0.0im\n",
       " 0.0+0.0im       0.0+0.0im       0.0+0.0im          0.0+0.0im  0.0+0.0im\n",
       " 0.0+0.0im       0.0+0.0im       0.0+0.0im  …  0.166667+0.0im  0.0+0.0im\n",
       " 0.0+0.0im       0.0+0.0im  0.166667+0.0im          0.0+0.0im  0.0+0.0im\n",
       " 0.0+0.0im       0.0+0.0im       0.0+0.0im     0.166667+0.0im  0.0+0.0im\n",
       " 0.0+0.0im       0.0+0.0im       0.0+0.0im          0.0+0.0im  0.0+0.0im"
      ]
     },
     "execution_count": 35,
     "metadata": {},
     "output_type": "execute_result"
    }
   ],
   "source": [
    "AB2=1/6*(ket(1,9)+ket(3,9))*(bra(1,9)+bra(3,9))+\n",
    "1/6*(ket(2,9)+ket(6,9))*(bra(2,9)+bra(6,9))+\n",
    "1/6*(ket(5,9)+ket(7,9))*(bra(5,9)+bra(7,9))"
   ]
  },
  {
   "cell_type": "code",
   "execution_count": 36,
   "metadata": {},
   "outputs": [
    {
     "data": {
      "text/plain": [
       "3×3 Array{Complex{Float64},2}:\n",
       " 0.0+0.0im  0.0+0.0im  0.0+0.0im\n",
       " 0.0+0.0im  0.0+0.0im  0.0+0.0im\n",
       " 0.0+0.0im  0.0+0.0im  1.0+0.0im"
      ]
     },
     "execution_count": 36,
     "metadata": {},
     "output_type": "execute_result"
    }
   ],
   "source": [
    "roCwAB = diagm([0,1/2,1/2, 0,0,1, 0,1,0,\n",
    "        0,0,1, 1/2,0,1/2, 1,0,0, \n",
    "        0,1,0, 1,0,0, 1/2,1/2,0]); #(12)\n",
    "calculateAll(AB2,roCwAB,0,1)"
   ]
  },
  {
   "cell_type": "code",
   "execution_count": 37,
   "metadata": {},
   "outputs": [
    {
     "data": {
      "text/plain": [
       "3×3 Array{Complex{Float64},2}:\n",
       "         0.5+3.77709e-11im  …  2.32419e-11+3.09703e-11im\n",
       "  9.5653e-12-4.88076e-11im     7.33872e-18-5.50375e-18im\n",
       " 2.32419e-11+3.09703e-11im             0.5-3.77709e-11im"
      ]
     },
     "execution_count": 37,
     "metadata": {},
     "output_type": "execute_result"
    }
   ],
   "source": [
    "lambda=0.6\n",
    "AB=lambda*AB1+(1-lambda)*AB2\n",
    "calculateAll(AB,roCwAB,0,1)"
   ]
  },
  {
   "cell_type": "code",
   "execution_count": 38,
   "metadata": {},
   "outputs": [
    {
     "data": {
      "text/plain": [
       "9×9 Array{Complex{Float64},2}:\n",
       " 0.166667+0.0im  0.166667+0.0im  0.0+0.0im  …  0.0+0.0im       0.0+0.0im\n",
       " 0.166667+0.0im  0.166667+0.0im  0.0+0.0im     0.0+0.0im       0.0+0.0im\n",
       "      0.0+0.0im       0.0+0.0im  0.0+0.0im     0.0+0.0im       0.0+0.0im\n",
       "      0.0+0.0im       0.0+0.0im  0.0+0.0im     0.0+0.0im       0.0+0.0im\n",
       "      0.0+0.0im       0.0+0.0im  0.0+0.0im     0.0+0.0im       0.0+0.0im\n",
       "      0.0+0.0im       0.0+0.0im  0.0+0.0im  …  0.0+0.0im       0.0+0.0im\n",
       "      0.0+0.0im       0.0+0.0im  0.0+0.0im     0.0+0.0im  0.166667+0.0im\n",
       "      0.0+0.0im       0.0+0.0im  0.0+0.0im     0.0+0.0im       0.0+0.0im\n",
       "      0.0+0.0im       0.0+0.0im  0.0+0.0im     0.0+0.0im  0.166667+0.0im"
      ]
     },
     "execution_count": 38,
     "metadata": {},
     "output_type": "execute_result"
    }
   ],
   "source": [
    "ABlast=1/6*(ket(0,9)+ket(1,9))*(bra(0,9)+bra(1,9))+\n",
    "1/6*(ket(4,9)+ket(5,9))*(bra(4,9)+bra(5,9))+\n",
    "1/6*(ket(8,9)+ket(6,9))*(bra(8,9)+bra(6,9))"
   ]
  },
  {
   "cell_type": "code",
   "execution_count": 39,
   "metadata": {},
   "outputs": [
    {
     "data": {
      "text/plain": [
       "3×3 Array{Complex{Float64},2}:\n",
       " 0.0+0.0im  0.0+0.0im  0.0+0.0im\n",
       " 0.0+0.0im  0.0+0.0im  0.0+0.0im\n",
       " 0.0+0.0im  0.0+0.0im  1.0+0.0im"
      ]
     },
     "execution_count": 39,
     "metadata": {},
     "output_type": "execute_result"
    }
   ],
   "source": [
    "calculateAll(ABlast,roCwAB,2,1)"
   ]
  },
  {
   "cell_type": "markdown",
   "metadata": {},
   "source": [
    "Classical case = $\\rho_{AB}$ calculated using quantum operators"
   ]
  },
  {
   "cell_type": "code",
   "execution_count": 40,
   "metadata": {},
   "outputs": [
    {
     "data": {
      "text/plain": [
       "9×9 Array{Complex{Float64},2}:\n",
       " 0.111111+0.0im       0.0+0.0im  …       0.0+0.0im       0.0+0.0im\n",
       "      0.0+0.0im  0.111111+0.0im          0.0+0.0im       0.0+0.0im\n",
       "      0.0+0.0im       0.0+0.0im          0.0+0.0im       0.0+0.0im\n",
       "      0.0+0.0im       0.0+0.0im          0.0+0.0im       0.0+0.0im\n",
       "      0.0+0.0im       0.0+0.0im          0.0+0.0im       0.0+0.0im\n",
       "      0.0+0.0im       0.0+0.0im  …       0.0+0.0im       0.0+0.0im\n",
       "      0.0+0.0im       0.0+0.0im          0.0+0.0im       0.0+0.0im\n",
       "      0.0+0.0im       0.0+0.0im     0.111111+0.0im       0.0+0.0im\n",
       "      0.0+0.0im       0.0+0.0im          0.0+0.0im  0.111111+0.0im"
      ]
     },
     "execution_count": 40,
     "metadata": {},
     "output_type": "execute_result"
    }
   ],
   "source": [
    "AB_normal= 1/9 * (\n",
    "    ket(0,9)*bra(0,9) + \n",
    "    ket(1,9)*bra(1,9) + \n",
    "    ket(2,9)*bra(2,9) + \n",
    "    ket(3,9)*bra(3,9) + \n",
    "    ket(4,9)*bra(4,9) + \n",
    "    ket(5,9)*bra(5,9) +\n",
    "    ket(6,9)*bra(6,9) + \n",
    "    ket(7,9)*bra(7,9) + \n",
    "    ket(8,9)*bra(8,9)\n",
    ")"
   ]
  },
  {
   "cell_type": "markdown",
   "metadata": {},
   "source": [
    "Classical case = $\\rho_{AB}$ calculated using $kron$"
   ]
  },
  {
   "cell_type": "code",
   "execution_count": 43,
   "metadata": {},
   "outputs": [],
   "source": [
    "#AB_normal = kron(A,B)"
   ]
  },
  {
   "cell_type": "code",
   "execution_count": 44,
   "metadata": {},
   "outputs": [
    {
     "data": {
      "text/plain": [
       "3×3 Array{Complex{Float64},2}:\n",
       " 0.333333+0.0im  0.0+0.0im       0.0+0.0im\n",
       "      0.0+0.0im  0.0+0.0im       0.0+0.0im\n",
       "      0.0+0.0im  0.0+0.0im  0.666667+0.0im"
      ]
     },
     "execution_count": 44,
     "metadata": {},
     "output_type": "execute_result"
    }
   ],
   "source": [
    "calculateAll(AB_normal,roCwAB,0,1)"
   ]
  }
 ],
 "metadata": {
  "kernelspec": {
   "display_name": "Julia 0.6.2",
   "language": "julia",
   "name": "julia-0.6"
  },
  "language_info": {
   "file_extension": ".jl",
   "mimetype": "application/julia",
   "name": "julia",
   "version": "0.6.2"
  }
 },
 "nbformat": 4,
 "nbformat_minor": 2
}
