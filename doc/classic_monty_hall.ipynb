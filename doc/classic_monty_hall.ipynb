{
 "cells": [
  {
   "cell_type": "code",
   "execution_count": 1,
   "metadata": {
    "collapsed": true
   },
   "outputs": [],
   "source": [
    "using BayesNets"
   ]
  },
  {
   "cell_type": "code",
   "execution_count": 2,
   "metadata": {},
   "outputs": [
    {
     "data": {
      "image/svg+xml": [
       "<?xml version=\"1.0\" encoding=\"UTF-8\"?>\n",
       "<svg xmlns=\"http://www.w3.org/2000/svg\" xmlns:xlink=\"http://www.w3.org/1999/xlink\" width=\"40.248pt\" height=\"40.786pt\" viewBox=\"0 0 40.248 40.786\" version=\"1.1\">\n",
       "<defs>\n",
       "<g>\n",
       "<symbol overflow=\"visible\" id=\"glyph-1522189632567449-0-0\">\n",
       "<path style=\"stroke:none;\" d=\"\"/>\n",
       "</symbol>\n",
       "<symbol overflow=\"visible\" id=\"glyph-1522189632567449-0-1\">\n",
       "<path style=\"stroke:none;\" d=\"M 5.015625 -1.015625 L 5.015625 -1.71875 L 4.359375 -1.71875 L 4.359375 -1.015625 C 4.359375 -0.4375 4.3125 -0.515625 4.203125 -0.515625 C 3.875 -0.515625 4.03125 -0.828125 4.03125 -0.875 L 4.03125 -2.875 C 4.03125 -3.296875 3.984375 -3.78125 3.625 -4.140625 C 3.234375 -4.53125 2.59375 -4.734375 2.109375 -4.734375 C 1.296875 -4.734375 0.40625 -4.125 0.40625 -3.46875 C 0.40625 -3.171875 0.8125 -2.875 1.0625 -2.875 C 1.34375 -2.875 1.71875 -3.203125 1.71875 -3.453125 C 1.71875 -3.578125 1.46875 -4.046875 1.328125 -4.046875 C 1.421875 -4.171875 1.78125 -4.25 2.09375 -4.25 C 2.578125 -4.25 2.953125 -3.984375 2.953125 -3.09375 L 2.953125 -2.859375 C 2.640625 -2.84375 1.9375 -2.8125 1.3125 -2.515625 C 0.5625 -2.171875 0.125 -1.515625 0.125 -1.078125 C 0.125 -0.265625 1.28125 0.109375 1.90625 0.109375 C 2.578125 0.109375 3.234375 -0.421875 3.421875 -0.890625 L 3.015625 -0.890625 C 3.0625 -0.484375 3.53125 0.0625 4 0.0625 C 4.203125 0.0625 5.015625 -0.203125 5.015625 -1.015625 Z M 2.953125 -1.53125 C 2.953125 -0.578125 2.4375 -0.375 1.984375 -0.375 C 1.5 -0.375 1.28125 -0.59375 1.28125 -1.09375 C 1.28125 -1.640625 1.5 -2.328125 2.953125 -2.375 Z M 2.953125 -1.53125 \"/>\n",
       "</symbol>\n",
       "<symbol overflow=\"visible\" id=\"glyph-1522189632567449-0-2\">\n",
       "<path style=\"stroke:none;\" d=\"M 5.390625 -2.28125 C 5.390625 -3.546875 4.21875 -4.671875 3.078125 -4.671875 C 2.296875 -4.671875 1.734375 -4.171875 1.578125 -3.984375 L 1.90625 -3.890625 L 1.90625 -7.203125 L 0.078125 -7.0625 L 0.078125 -6.5 C 0.984375 -6.5 0.859375 -6.5625 0.859375 -6.078125 L 0.859375 0 L 1.421875 0 L 1.671875 -0.421875 C 1.671875 -0.421875 2.234375 0.109375 2.96875 0.109375 C 4.15625 0.109375 5.390625 -1 5.390625 -2.28125 Z M 4.171875 -2.296875 C 4.171875 -1.921875 4.203125 -1.421875 3.921875 -0.984375 C 3.703125 -0.671875 3.46875 -0.375 2.9375 -0.375 C 2.484375 -0.375 2.265625 -0.578125 2.03125 -0.953125 C 1.890625 -1.15625 1.9375 -1.09375 1.9375 -1.265625 L 1.9375 -3.3125 C 1.9375 -3.515625 1.890625 -3.421875 2 -3.59375 C 2.375 -4.140625 2.796875 -4.1875 3.03125 -4.1875 C 3.484375 -4.1875 3.703125 -3.96875 3.9375 -3.59375 C 4.203125 -3.1875 4.171875 -2.703125 4.171875 -2.296875 Z M 4.171875 -2.296875 \"/>\n",
       "</symbol>\n",
       "<symbol overflow=\"visible\" id=\"glyph-1522189632567449-0-3\">\n",
       "<path style=\"stroke:none;\" d=\"M 4.34375 -1.3125 C 4.34375 -1.421875 4.03125 -1.5625 4 -1.5625 C 3.921875 -1.5625 3.703125 -1.375 3.671875 -1.3125 C 3.390625 -0.390625 2.9375 -0.40625 2.578125 -0.40625 C 2.046875 -0.40625 1.359375 -0.703125 1.359375 -2.296875 C 1.359375 -3.921875 1.984375 -4.21875 2.515625 -4.21875 C 2.609375 -4.21875 3.09375 -4.25 3.234375 -4.09375 C 3.171875 -4.09375 2.90625 -3.65625 2.90625 -3.515625 C 2.90625 -3.265625 3.296875 -2.9375 3.5625 -2.9375 C 3.828125 -2.9375 4.234375 -3.234375 4.234375 -3.53125 C 4.234375 -4.203125 3.265625 -4.734375 2.5 -4.734375 C 1.25 -4.734375 0.140625 -3.515625 0.140625 -2.28125 C 0.140625 -1 1.328125 0.109375 2.484375 0.109375 C 3.8125 0.109375 4.34375 -1.21875 4.34375 -1.3125 Z M 4.34375 -1.3125 \"/>\n",
       "</symbol>\n",
       "</g>\n",
       "</defs>\n",
       "<g id=\"surface1\">\n",
       "<path style=\"fill:none;stroke-width:0.3985;stroke-linecap:butt;stroke-linejoin:miter;stroke:rgb(0%,0%,0%);stroke-opacity:1;stroke-miterlimit:10;\" d=\"M 2.903844 -5.807625 L 11.064 -22.127937 \" transform=\"matrix(1,0,0,-1,5.811,6.833)\"/>\n",
       "<path style=\"fill:none;stroke-width:0.31879;stroke-linecap:round;stroke-linejoin:round;stroke:rgb(0%,0%,0%);stroke-opacity:1;stroke-miterlimit:10;\" d=\"M -1.196486 1.593872 C -1.095579 0.995324 0.000581384 0.0992235 0.298113 -0.00169962 C 0.000577819 -0.100872 -1.095614 -0.996933 -1.194803 -1.595478 \" transform=\"matrix(0.44902,0.898,0.898,-0.44902,16.87548,28.962)\"/>\n",
       "<path style=\"fill:none;stroke-width:0.3985;stroke-linecap:butt;stroke-linejoin:miter;stroke:rgb(0%,0%,0%);stroke-opacity:1;stroke-miterlimit:10;\" d=\"M 24.829625 -7.030281 L 17.28275 -22.127937 \" transform=\"matrix(1,0,0,-1,5.811,6.833)\"/>\n",
       "<path style=\"fill:none;stroke-width:0.31879;stroke-linecap:round;stroke-linejoin:round;stroke:rgb(0%,0%,0%);stroke-opacity:1;stroke-miterlimit:10;\" d=\"M -1.194772 1.595487 C -1.095593 0.996935 0.000592984 0.100846 0.298129 0.00166759 C 0.000592984 -0.0992511 -1.095593 -0.99534 -1.196512 -1.593892 \" transform=\"matrix(-0.449,0.898,0.898,0.449,23.0933,28.962)\"/>\n",
       "<g style=\"fill:rgb(0%,0%,0%);fill-opacity:1;\">\n",
       "  <use xlink:href=\"#glyph-1522189632567449-0-1\" x=\"3.321\" y=\"9.009\"/>\n",
       "</g>\n",
       "<g style=\"fill:rgb(0%,0%,0%);fill-opacity:1;\">\n",
       "  <use xlink:href=\"#glyph-1522189632567449-0-2\" x=\"31.388\" y=\"10.235\"/>\n",
       "</g>\n",
       "<g style=\"fill:rgb(0%,0%,0%);fill-opacity:1;\">\n",
       "  <use xlink:href=\"#glyph-1522189632567449-0-3\" x=\"17.773\" y=\"37.356\"/>\n",
       "</g>\n",
       "</g>\n",
       "</svg>\n",
       "\n"
      ],
      "text/plain": [
       "BayesNets.BayesNet{BayesNets.CPDs.CategoricalCPD{Distributions.Categorical{Float64}}}({3, 2} directed simple Int64 graph, BayesNets.CPDs.CategoricalCPD{Distributions.Categorical{Float64}}[3 instantiations:\n",
       "  a (3), 3 instantiations:\n",
       "  b (3), 27 instantiations:\n",
       "  c (3)\n",
       "  a (3)\n",
       "  b (3)], Dict(:a=>1,:b=>2,:c=>3))"
      ]
     },
     "execution_count": 2,
     "metadata": {},
     "output_type": "execute_result"
    }
   ],
   "source": [
    "bn = DiscreteBayesNet()\n",
    "push!(bn, DiscreteCPD(:a, [1/3, 1/3, 1/3]))\n",
    "push!(bn, DiscreteCPD(:b, [1/3, 1/3, 1/3]))\n",
    "push!(bn, DiscreteCPD(:c, [:a, :b], [3,3], \n",
    "        [Categorical([0,1/2,1/2]), #A=0, B=0\n",
    "        Categorical([0,0,1]), #A=0, B=1\n",
    "        Categorical([0,1,0]), #A=0, B=2\n",
    "        Categorical([0,0,1]), #A=1, B=0\n",
    "        Categorical([1/2,0,1/2]), #A=1, B=1\n",
    "        Categorical([1,0,0]), #A=1, B=2\n",
    "        Categorical([0,1,0]), #A=2, B=0\n",
    "        Categorical([1,0,0]), #A=2, B=1\n",
    "        Categorical([1/2,1/2,0]) #A=2, B=2\n",
    "        ]))"
   ]
  },
  {
   "cell_type": "code",
   "execution_count": 3,
   "metadata": {},
   "outputs": [
    {
     "data": {
      "text/html": [
       "<table class=\"data-frame\"><thead><tr><th></th><th>a</th><th>potential</th></tr></thead><tbody><tr><th>1</th><td>1</td><td>0.3333333333333333</td></tr><tr><th>2</th><td>2</td><td>0.0</td></tr><tr><th>3</th><td>3</td><td>0.6666666666666666</td></tr></tbody></table>"
      ],
      "text/plain": [
       "3 instantiations:\n",
       "  a (3)"
      ]
     },
     "execution_count": 3,
     "metadata": {},
     "output_type": "execute_result"
    }
   ],
   "source": [
    "assignment = Assignment(:b => 1, :c => 2)\n",
    "\n",
    "infer(bn, :a, evidence=assignment)"
   ]
  }
 ],
 "metadata": {
  "kernelspec": {
   "display_name": "Julia 0.6.2",
   "language": "julia",
   "name": "julia-0.6"
  },
  "language_info": {
   "file_extension": ".jl",
   "mimetype": "application/julia",
   "name": "julia",
   "version": "0.6.2"
  }
 },
 "nbformat": 4,
 "nbformat_minor": 2
}
