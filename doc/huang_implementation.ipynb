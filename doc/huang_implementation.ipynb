{
 "cells": [
  {
   "cell_type": "code",
   "execution_count": null,
   "metadata": {},
   "outputs": [],
   "source": [
    "using BayesNets\n",
    "using QI\n",
    "using LightGraphs\n",
    "using GraphPlot"
   ]
  },
  {
   "cell_type": "code",
   "execution_count": null,
   "metadata": {},
   "outputs": [],
   "source": [
    "star(A, B) = sqrtm(B)*A*sqrtm(B) # operator z (#2)"
   ]
  },
  {
   "cell_type": "code",
   "execution_count": null,
   "metadata": {},
   "outputs": [],
   "source": [
    "nodes(bn) = [n.target for n in bn.cpds]"
   ]
  },
  {
   "cell_type": "code",
   "execution_count": null,
   "metadata": {},
   "outputs": [],
   "source": [
    "roA = HermitianMatrix([1/3, 1/3, 1/3])\n",
    "roB = HermitianMatrix([1/3, 1/3, 1/3])\n",
    "roC = HermitianMatrix([\n",
    "        0,1/2,1/2, #A=0, B=0\n",
    "        0,0,1, #A=0, B=1\n",
    "        0,1,0, #A=0, B=2\n",
    "        0,0,1, #A=1, B=0\n",
    "        1/2,0,1/2, #A=1, B=1\n",
    "        1,0,0, #A=1, B=2\n",
    "        0,1,0, #A=2, B=0\n",
    "        1,0,0, #A=2, B=1\n",
    "        1/2,1/2,0 #A=2, B=2\n",
    "        ]); #\n",
    "\n",
    "a_cpd = DiscreteQCPD(:a, [], [], 3, roA)\n",
    "b_cpd = DiscreteQCPD(:b, [], [], 3, roB)\n",
    "c_cpd = DiscreteQCPD(:c, [:a, :b], [3,3], 3, roC)\n",
    "monty_bn = AcausalStructure()\n",
    "push!(monty_bn, a_cpd)\n",
    "push!(monty_bn, b_cpd)\n",
    "push!(monty_bn, c_cpd)\n",
    "\n",
    "gplot(Graph(monty_bn.dag), nodelabel=nodes(monty_bn))\n"
   ]
  },
  {
   "cell_type": "code",
   "execution_count": null,
   "metadata": {},
   "outputs": [],
   "source": [
    "roAB =1/3*(ket(0,9)+ket(4,9)+ket(8,9))* (bra(0,9)+bra(4,9)+bra(8,9)) \n",
    "\n",
    "roC = HermitianMatrix([\n",
    "        0,1/2,1/2, #A=0, B=0\n",
    "        0,0,1, #A=0, B=1\n",
    "        0,1,0, #A=0, B=2\n",
    "        0,0,1, #A=1, B=0\n",
    "        1/2,0,1/2, #A=1, B=1\n",
    "        1,0,0, #A=1, B=2\n",
    "        0,1,0, #A=2, B=0\n",
    "        1,0,0, #A=2, B=1\n",
    "        1/2,1/2,0 #A=2, B=2\n",
    "        ]); #\n",
    "\n",
    "ab_cpd = DiscreteQCPD(:ab, [], [], 9, roAB)\n",
    "c_cpd = DiscreteQCPD(:c, [:ab], [9], 3, roC)\n",
    "quantum_bn = AcausalStructure()\n",
    "push!(quantum_bn, ab_cpd)\n",
    "push!(quantum_bn, c_cpd)\n",
    "\n",
    "gplot(Graph(quantum_bn.dag), nodelabel=nodes(quantum_bn))"
   ]
  },
  {
   "cell_type": "code",
   "execution_count": null,
   "metadata": {},
   "outputs": [],
   "source": [
    "roA = HermitianMatrix([.5, .5])\n",
    "\n",
    "roBwA = HermitianMatrix([.5, .5, .4, .6])\n",
    "\n",
    "roCwA = HermitianMatrix([.7, .3, .2, .8])\n",
    "\n",
    "roDwB = HermitianMatrix([.9, .1, .5, .5])\n",
    "\n",
    "roEwC = HermitianMatrix([.3, .7, .6, .4])\n",
    "\n",
    "roFwDE = HermitianMatrix([.01, .99, .01, .99, .01, .99, .99, .01])\n",
    "\n",
    "roGwC = HermitianMatrix([.8, .2, .1, .9])\n",
    "\n",
    "roHwEG = HermitianMatrix([.05, .95, .95, .05, .95, .05, .95, .05])\n",
    "\n",
    "a_cpd = DiscreteQCPD(:a, [], [], 2, roA)\n",
    "b_cpd = DiscreteQCPD(:b, [:a], [2],2, roBwA)\n",
    "c_cpd = DiscreteQCPD(:c, [:a], [2],2, roCwA)\n",
    "d_cpd = DiscreteQCPD(:d, [:b], [2],2, roDwB)\n",
    "e_cpd = DiscreteQCPD(:e, [:c], [2],2, roEwC)\n",
    "f_cpd = DiscreteQCPD(:f, [:d, :e], [2,2],2, roFwDE)\n",
    "g_cpd = DiscreteQCPD(:g, [:c], [2],2, roGwC)\n",
    "h_cpd = DiscreteQCPD(:h, [:e, :g], [2,2],2, roHwEG)\n",
    "\n",
    "example_bn = AcausalStructure()\n",
    "push!(example_bn, a_cpd)\n",
    "push!(example_bn, b_cpd)\n",
    "push!(example_bn, c_cpd)\n",
    "push!(example_bn, d_cpd)\n",
    "push!(example_bn, e_cpd)\n",
    "push!(example_bn, f_cpd)\n",
    "push!(example_bn, g_cpd)\n",
    "push!(example_bn, h_cpd)\n",
    "\n",
    "gplot(example_bn.dag, nodelabel=nodes(example_bn))\n"
   ]
  },
  {
   "cell_type": "code",
   "execution_count": null,
   "metadata": {},
   "outputs": [],
   "source": [
    "function moral_graph(as::BayesNet)\n",
    "    result = Graph(deepcopy(as.dag))\n",
    "    for node in as.cpds\n",
    "        for p1 in node.parents\n",
    "            for p2 in node.parents\n",
    "                p1_ind = as.name_to_index[p1]\n",
    "                p2_ind = as.name_to_index[p2]\n",
    "                if(p1_ind!=p2_ind)\n",
    "                    add_edge!(result, p1_ind, p2_ind)\n",
    "                end\n",
    "            end\n",
    "        end\n",
    "    end\n",
    "    return result\n",
    "end"
   ]
  },
  {
   "cell_type": "code",
   "execution_count": null,
   "metadata": {},
   "outputs": [],
   "source": [
    "bn = example_bn\n",
    "moral_bn = moral_graph(bn)\n",
    "print(ne(moral_bn))\n",
    "gplot(moral_bn, nodelabel=nodes(bn))"
   ]
  },
  {
   "cell_type": "code",
   "execution_count": null,
   "metadata": {},
   "outputs": [],
   "source": [
    "is_subset(s1::Set, s2::Set) = intersect(s1, s2) == s1"
   ]
  },
  {
   "cell_type": "code",
   "execution_count": null,
   "metadata": {},
   "outputs": [],
   "source": [
    "function triangulate(g::Graph, as::AcausalStructure)\n",
    "    g_copy = [false for _ in vertices(g)]\n",
    "    g = deepcopy(g)\n",
    "    nl = nodes(as)\n",
    "    cliques = Vector{Set}()\n",
    "    while(!all(g_copy))\n",
    "        least_edges_to_be_added = Inf\n",
    "        chosen_vertex = 0\n",
    "        chosen_cluster = Set()\n",
    "        for v=1:length(g_copy)\n",
    "            if g_copy[v]\n",
    "                continue\n",
    "            else\n",
    "                cluster = Set()\n",
    "                for e in edges(g)\n",
    "                    if (v==src(e) || v==dst(e)) && !g_copy[src(e)] && !g_copy[dst(e)]\n",
    "                        push!(cluster, src(e))\n",
    "                        push!(cluster, dst(e))\n",
    "                    end\n",
    "                end\n",
    "                edges_todo = 0\n",
    "                for v1 in cluster\n",
    "                    for v2 in cluster\n",
    "                        if v1 != v2 && !in((v1, v2), edges(g))\n",
    "                            edges_todo +=1\n",
    "                        end\n",
    "                    end\n",
    "                end\n",
    "                edges_todo /= 2\n",
    "                \n",
    "                if edges_todo < least_edges_to_be_added || \n",
    "                    ((edges_todo == least_edges_to_be_added) && \n",
    "                        (prod([as.cpds[n].ncategories for n in cluster]) <= prod([as.cpds[n].ncategories for n in chosen_cluster])))                      \n",
    "                    least_edges_to_be_added = edges_todo\n",
    "                    chosen_vertex = v\n",
    "                    chosen_cluster = cluster\n",
    "                end\n",
    "            end       \n",
    "        end\n",
    "        chosen_nodes = Set([nl[n] for n in chosen_cluster])\n",
    "        if !any([is_subset(chosen_nodes, clique) for clique in cliques])\n",
    "            push!(cliques, chosen_nodes)\n",
    "        end\n",
    "        g_copy[chosen_vertex] = true\n",
    "        for v1 in chosen_cluster\n",
    "            for v2 in chosen_cluster\n",
    "                if v1 != v2 && !in((v1, v2), edges(g))\n",
    "                    add_edge!(g, v1, v2)\n",
    "                end\n",
    "            end\n",
    "        end     \n",
    "    end\n",
    "    return g, cliques\n",
    "end"
   ]
  },
  {
   "cell_type": "code",
   "execution_count": null,
   "metadata": {},
   "outputs": [],
   "source": [
    "println(ne(moral_bn))\n",
    "\n",
    "tri_moral_bn, cliques = triangulate(moral_bn,bn)\n",
    "println(ne(tri_moral_bn))\n",
    "\n",
    "# before, cliques were sets\n",
    "# they are now transformed to vectors and their ordering is the same \n",
    "# as in their bayes_net DAG\n",
    "cliques = [sort([c for c in clique], by=c -> bn.name_to_index[c]) for clique in cliques]\n",
    "println(cliques)\n",
    "gplot(tri_moral_bn ,nodelabel=nodes(bn))\n"
   ]
  },
  {
   "cell_type": "code",
   "execution_count": null,
   "metadata": {
    "collapsed": true
   },
   "outputs": [],
   "source": [
    "struct JoinTree\n",
    "    graph::Graph\n",
    "    clusters::Vector{Vector}\n",
    "    vertex_to_num::Dict{Int64, Union{Float64, Complex, Matrix}}\n",
    "    edge_to_num::Dict{Set{Int}, Union{Float64, Complex, Matrix}}\n",
    "    \n",
    "end"
   ]
  },
  {
   "cell_type": "code",
   "execution_count": null,
   "metadata": {},
   "outputs": [],
   "source": [
    "function sepset_cost(sepset::Set, as::AcausalStructure)\n",
    "    weights = [as.cpds[as.name_to_index[v]].ncategories for v in sepset]\n",
    "    \n",
    "    return 0\n",
    "end"
   ]
  },
  {
   "cell_type": "code",
   "execution_count": null,
   "metadata": {},
   "outputs": [],
   "source": [
    "function sepset_comparator(c1, c2)\n",
    "    sepset = intersect(c1, c2)\n",
    "    -length(sepset)\n",
    "end"
   ]
  },
  {
   "cell_type": "code",
   "execution_count": null,
   "metadata": {},
   "outputs": [],
   "source": [
    "cluster_size(cluster::Vector{Symbol}, as::AcausalStructure) = prod([as.cpds[as.name_to_index[v]].ncategories for v in cluster])\n"
   ]
  },
  {
   "cell_type": "code",
   "execution_count": null,
   "metadata": {},
   "outputs": [],
   "source": [
    "function make_join_tree(clusters::Vector, as::AcausalStructure)\n",
    "    candidate_sepsets = []\n",
    "    trees = Dict([c => c for c in clusters])\n",
    "    chosen_sepsets = Set()\n",
    "    Dict([v => 1.0 for v=1:length(clusters)])\n",
    "    \n",
    "    result = JoinTree(\n",
    "        Graph(length(clusters)), \n",
    "        clusters, \n",
    "        Dict([v => eye(cluster_size(clusters[v], as)) for v=1:length(clusters)]),\n",
    "        Dict()\n",
    "    )\n",
    "    for c1 = 1:length(clusters)\n",
    "        for c2= 1:length(clusters)\n",
    "            if c1 != c2\n",
    "                push!(candidate_sepsets,(c1, c2))\n",
    "            end\n",
    "        end\n",
    "    end\n",
    "    candidate_sepsets = sort(candidate_sepsets, by=c -> sepset_comparator(clusters[c[1]], clusters[c[2]]))\n",
    "    i = 1\n",
    "    n = length(clusters)\n",
    "\n",
    "    while length(chosen_sepsets) < n-1\n",
    "        i1, i2 = candidate_sepsets[i]\n",
    "        c1, c2 = clusters[i1], clusters[i2]\n",
    "        sepset = intersect(c1, c2)\n",
    "        if (trees[c1] != trees[c2]) && !any([sepset==s for s in chosen_sepsets])\n",
    "            push!(chosen_sepsets, sepset)\n",
    "            trees[c1] = trees[c2] = union(c1, c2)\n",
    "#             println(c1, \" \", c2, \" \", sepset)\n",
    "            add_edge!(result.graph, i1, i2)\n",
    "            push!(result.edge_to_num, Set([i1, i2]) => eye(cluster_size(sepset, as)))\n",
    "        end\n",
    "        i += 1\n",
    "    end\n",
    "    result\n",
    "end"
   ]
  },
  {
   "cell_type": "code",
   "execution_count": null,
   "metadata": {},
   "outputs": [],
   "source": [
    "jt = make_join_tree(cliques, bn)\n",
    "jt.clusters"
   ]
  },
  {
   "cell_type": "code",
   "execution_count": null,
   "metadata": {},
   "outputs": [],
   "source": [
    "gplot(jt.graph, nodelabel=[join([string(v) for v in c]) for c in jt.clusters])"
   ]
  },
  {
   "cell_type": "code",
   "execution_count": null,
   "metadata": {},
   "outputs": [],
   "source": [
    "function family(v_cpd::DiscreteQCPD)\n",
    "    union(Set([v_cpd.target]), Set(v_cpd.parents))\n",
    "end"
   ]
  },
  {
   "cell_type": "code",
   "execution_count": null,
   "metadata": {},
   "outputs": [],
   "source": [
    "print(jt.clusters[1])\n",
    "jt.vertex_to_num[1]"
   ]
  },
  {
   "cell_type": "code",
   "execution_count": null,
   "metadata": {},
   "outputs": [],
   "source": [
    "function initialize(jt::JoinTree, as::AcausalStructure)\n",
    "    jt = deepcopy(jt)\n",
    "    for v1 in reverse(as.cpds)\n",
    "        parent_cluster_ind = [c for c=1:length(jt.clusters) if  is_subset(family(v1), Set(jt.clusters[c]))][1]\n",
    "        previous_init = jt.vertex_to_num[parent_cluster_ind]\n",
    "        mul_elem = eye(1)\n",
    "        println(v1.target, \" chooses \", jt.clusters[parent_cluster_ind])\n",
    "#         print(\"(\")\n",
    "        for v2 in as.cpds\n",
    "            if v2.target in jt.clusters[parent_cluster_ind]\n",
    "                if v2.target == v1.target\n",
    "                    mul_elem = kron(mul_elem, v2.conditional_distribution.p)\n",
    "#                     print(\" x ro\", v2.target)\n",
    "                elseif !in(v2.target, v1.parents)\n",
    "                    mul_elem = kron(mul_elem, eye(v2.ncategories))\n",
    "#                     print(\" x I\", v2.target)\n",
    "                end\n",
    "            end\n",
    "        end\n",
    "#         print(\") * \")\n",
    "\n",
    "#         println(mul_elem)\n",
    "        jt.vertex_to_num[parent_cluster_ind] = star(previous_init, mul_elem)\n",
    "#         println(size(v.conditional_distribution.p), \" \", size(previous_init))\n",
    "#         jt.vertex_to_num[parent_cluster_ind] = kron(previous_init, v.conditional_distribution.p)\n",
    "#         println(v.target, \" \", jt.cliques[parent_cluster_ind],\" \", in(v.target, jt.cliques[parent_cluster_ind]))\n",
    "    end\n",
    "    println()\n",
    "    jt\n",
    "end"
   ]
  },
  {
   "cell_type": "code",
   "execution_count": null,
   "metadata": {},
   "outputs": [],
   "source": [
    "init_jt = initialize(jt, bn)\n",
    "# print(init_jt.cliques)\n",
    "# real(init_jt.vertex_to_num[5])"
   ]
  },
  {
   "cell_type": "code",
   "execution_count": null,
   "metadata": {},
   "outputs": [],
   "source": [
    "init_jt.clusters"
   ]
  },
  {
   "cell_type": "code",
   "execution_count": null,
   "metadata": {},
   "outputs": [],
   "source": [
    "ABC = init_jt.vertex_to_num[1]\n",
    "real(ptrace(ABC, [3,3,3], [1,2]))"
   ]
  },
  {
   "cell_type": "code",
   "execution_count": null,
   "metadata": {},
   "outputs": [],
   "source": [
    "ADC = init_jt.vertex_to_num[5]\n",
    "ptrace(ADC, [2,2,2], [2,3])"
   ]
  },
  {
   "cell_type": "code",
   "execution_count": null,
   "metadata": {},
   "outputs": [],
   "source": [
    "init_jt.vertex_to_num[5]"
   ]
  },
  {
   "cell_type": "code",
   "execution_count": null,
   "metadata": {},
   "outputs": [],
   "source": [
    "function single_message_pass(from_ind::Int, to_ind::Int, jt::JoinTree, as::AcausalStructure)\n",
    "    jt = deepcopy(jt)\n",
    "    if (from_ind, to_ind) in edges(jt.graph)\n",
    "        cluster_from = jt.clusters[from_ind]\n",
    "        cluster_to = jt.clusters[to_ind]\n",
    "        sepset = intersect(cluster_from, cluster_to)\n",
    "        println(cluster_from, \" \", sepset, \" \", cluster_to)\n",
    "        to_trace_out_sym = setdiff(cluster_from, sepset)\n",
    "        to_trace_out_ind = [findfirst(cluster_from, s) for s in to_trace_out_sym]\n",
    "        println(to_trace_out_ind)\n",
    "        from_variables_sizes = [as.cpds[as.name_to_index[v]].ncategories for v in cluster_from]\n",
    "        println(from_variables_sizes)\n",
    "        cluster_from_num = jt.vertex_to_num[from_ind]\n",
    "        old_sepset_num = jt.edge_to_num[Set([from_ind, to_ind])]\n",
    "        new_sepset_num = ptrace(cluster_from_num, from_variables_sizes, to_trace_out_ind)\n",
    "        println(new_sepset_num)\n",
    "        println(old_sepset_num)\n",
    "        \n",
    "        jt.edge_to_num[Set([from_ind, to_ind])] = new_sepset_num\n",
    "        \n",
    "        cluster_to_num = jt.vertex_to_num[to_ind]\n",
    "        \n",
    "        message = new_sepset_num / old_sepset_num\n",
    "        \n",
    "        message_sym = Vector(sepset)\n",
    "        println(message_sym)\n",
    "        for v in cluster_to\n",
    "            if !in(v, message_sym)\n",
    "                push!(message_sym, v)\n",
    "                message = kron(message, eye(as.cpds[as.name_to_index[v]].ncategories))\n",
    "            end\n",
    "        end\n",
    "        println(message_sym)\n",
    "        message_sorted_inds = [findfirst(message_sym, s.target) for s in as.cpds if s.target in message_sym]\n",
    "        println(message_sorted_inds) \n",
    "        message_dims = [as.cpds[as.name_to_index[s]].ncategories for s in message_sym]\n",
    "        message_sorted = permute_systems(message, message_dims, message_sorted_inds )\n",
    "        jt.vertex_to_num[to_ind] = star(cluster_to_num, message_sorted) # event(clique_to_num, message_sorted)        \n",
    "    end\n",
    "    return jt\n",
    "end"
   ]
  },
  {
   "cell_type": "code",
   "execution_count": null,
   "metadata": {},
   "outputs": [],
   "source": [
    "init_jt.edge_to_num\n",
    "init_jt.vertex_to_num[5]"
   ]
  },
  {
   "cell_type": "code",
   "execution_count": null,
   "metadata": {},
   "outputs": [],
   "source": [
    "init_jt.vertex_to_num[6]"
   ]
  },
  {
   "cell_type": "code",
   "execution_count": null,
   "metadata": {},
   "outputs": [],
   "source": [
    "passed = single_message_pass(5, 6, init_jt, bn);"
   ]
  },
  {
   "cell_type": "code",
   "execution_count": null,
   "metadata": {},
   "outputs": [],
   "source": [
    "passed.vertex_to_num[5]"
   ]
  },
  {
   "cell_type": "code",
   "execution_count": null,
   "metadata": {},
   "outputs": [],
   "source": [
    "passed.vertex_to_num[6]"
   ]
  },
  {
   "cell_type": "code",
   "execution_count": null,
   "metadata": {},
   "outputs": [],
   "source": [
    "ptrace(passed.vertex_to_num[6], [2,2,2], [2, 3])"
   ]
  },
  {
   "cell_type": "code",
   "execution_count": null,
   "metadata": {},
   "outputs": [],
   "source": [
    "function global_propagation(jt::JoinTree, as::AcausalStructure)\n",
    "    jt = deepcopy(jt)\n",
    "    cluster_marks = [true for c in jt.clusters]\n",
    "    jt\n",
    "end"
   ]
  },
  {
   "cell_type": "code",
   "execution_count": null,
   "metadata": {},
   "outputs": [],
   "source": [
    "global_propagation(jt, bn)"
   ]
  }
 ],
 "metadata": {
  "kernelspec": {
   "display_name": "Julia 0.6.2",
   "language": "julia",
   "name": "julia-0.6"
  },
  "language_info": {
   "file_extension": ".jl",
   "mimetype": "application/julia",
   "name": "julia",
   "version": "0.6.2"
  }
 },
 "nbformat": 4,
 "nbformat_minor": 2
}
