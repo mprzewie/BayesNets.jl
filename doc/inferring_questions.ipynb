{
 "cells": [
  {
   "cell_type": "markdown",
   "metadata": {},
   "source": [
    "Potrzebne funkcje:"
   ]
  },
  {
   "cell_type": "code",
   "execution_count": 2,
   "metadata": {},
   "outputs": [
    {
     "data": {
      "text/plain": [
       "id (generic function with 1 method)"
      ]
     },
     "execution_count": 2,
     "metadata": {},
     "output_type": "execute_result"
    }
   ],
   "source": [
    "using QI\n",
    "star(A, B) = sqrtm(B)*A*sqrtm(B) # operator z (#2)\n",
    "# kron - iloczyn Kroneckera\n",
    "maxmix(d) = eye(d)/d\n",
    "id(d) = eye(d)"
   ]
  },
  {
   "cell_type": "markdown",
   "metadata": {},
   "source": [
    "### Prawdopodobieństwa $\\rho_A$, $\\rho_B$ oraz warunkowe $\\rho_{C | AB}$\n",
    "\n",
    "Są one zdefiniowane tylko i wyłącznie przez warunki zadania:\n",
    "\n",
    "* Zdarzenie $A$ - numer drzwi, w których znajduje się nagroda\n",
    "* Zdarzenie $B$ - numer drzwi, które wybrał gracz\n",
    "* Zdarzenie $C$ - numer drzwi, które otwarł prowadzący\n",
    "\n",
    "Prawdopodobieństwa zdarzeń $A$ i $B$ mają rozkład jednostajny. W przypadku klasycznym są one niezależne."
   ]
  },
  {
   "cell_type": "code",
   "execution_count": 3,
   "metadata": {
    "collapsed": true
   },
   "outputs": [],
   "source": [
    "roA=diagm([1/3, 1/3, 1/3])\n",
    "roB=diagm([1/3, 1/3, 1/3])\n",
    "\n",
    "roCwAB = diagm([\n",
    "        0,1/2,1/2, #A=0, B=0\n",
    "        0,0,1, #A=0, B=1\n",
    "        0,1,0, #A=0, B=2\n",
    "        0,0,1, #A=1, B=0\n",
    "        1/2,0,1/2, #A=1, B=1\n",
    "        1,0,0, #A=1, B=2\n",
    "        0,1,0, #A=2, B=0\n",
    "        1,0,0, #A=2, B=1\n",
    "        1/2,1/2,0 #A=2, B=2\n",
    "        ]); # rozkład warunkowy C|AB (#12)"
   ]
  },
  {
   "cell_type": "markdown",
   "metadata": {},
   "source": [
    "### Rozkład AB klasyczny  - A i B są zdarzeniami niezależnymi\n",
    "\n",
    "Macierz go opisujacą można uzyskać dwoma sposobami - używając iloczynu Kroneckera między rozkładami A i B, lub zdefiniować splątanie kwantowe między A oraz B, które zachowuje się tak, jakby go nie było, bo każda kombinacja stanów AB jest równo prawdopodobna."
   ]
  },
  {
   "cell_type": "code",
   "execution_count": 4,
   "metadata": {},
   "outputs": [
    {
     "name": "stdout",
     "output_type": "stream",
     "text": [
      "true"
     ]
    },
    {
     "data": {
      "text/plain": [
       "9×9 Array{Float64,2}:\n",
       " 0.111111  0.0       0.0       0.0       …  0.0       0.0       0.0     \n",
       " 0.0       0.111111  0.0       0.0          0.0       0.0       0.0     \n",
       " 0.0       0.0       0.111111  0.0          0.0       0.0       0.0     \n",
       " 0.0       0.0       0.0       0.111111     0.0       0.0       0.0     \n",
       " 0.0       0.0       0.0       0.0          0.0       0.0       0.0     \n",
       " 0.0       0.0       0.0       0.0       …  0.0       0.0       0.0     \n",
       " 0.0       0.0       0.0       0.0          0.111111  0.0       0.0     \n",
       " 0.0       0.0       0.0       0.0          0.0       0.111111  0.0     \n",
       " 0.0       0.0       0.0       0.0          0.0       0.0       0.111111"
      ]
     },
     "execution_count": 4,
     "metadata": {},
     "output_type": "execute_result"
    }
   ],
   "source": [
    "AB_kron = kron(roA, roB)\n",
    "\n",
    "AB_ketbra = 1/9 * (\n",
    "    ket(0,9)*bra(0,9) + \n",
    "    ket(1,9)*bra(1,9) + \n",
    "    ket(2,9)*bra(2,9) + \n",
    "    ket(3,9)*bra(3,9) + \n",
    "    ket(4,9)*bra(4,9) + \n",
    "    ket(5,9)*bra(5,9) +\n",
    "    ket(6,9)*bra(6,9) + \n",
    "    ket(7,9)*bra(7,9) + \n",
    "    ket(8,9)*bra(8,9)\n",
    ")\n",
    "\n",
    "print(real(AB_kron) == real(AB_ketbra))\n",
    "AB_classic = AB_kron"
   ]
  },
  {
   "cell_type": "markdown",
   "metadata": {},
   "source": [
    "### Rozkład AB splątany:\n",
    "\n",
    "$AB_{entangled} = \\frac{1}{3} ( | 00 \\rangle + |11 \\rangle + |22 \\rangle)(\\langle 00 | + \\langle 11 | + \\langle 22 |) $"
   ]
  },
  {
   "cell_type": "code",
   "execution_count": 5,
   "metadata": {},
   "outputs": [
    {
     "data": {
      "text/plain": [
       "1.0 + 0.0im"
      ]
     },
     "execution_count": 5,
     "metadata": {},
     "output_type": "execute_result"
    }
   ],
   "source": [
    "AB_entangled=1/3*(ket(0,9)+ket(4,9)+ket(8,9))* (bra(0,9)+bra(4,9)+bra(8,9)) \n",
    "trace(AB_entangled)"
   ]
  },
  {
   "cell_type": "markdown",
   "metadata": {},
   "source": [
    "### Rozkład AB klasyczny lub splątany\n",
    "\n",
    "Tutaj wybieramy, czy dalej omawiane eksperymenty będą na układzie klasycznym czy splątanym:"
   ]
  },
  {
   "cell_type": "code",
   "execution_count": 6,
   "metadata": {},
   "outputs": [
    {
     "data": {
      "text/plain": [
       "9×9 Array{Float64,2}:\n",
       " 0.111111  0.0       0.0       0.0       …  0.0       0.0       0.0     \n",
       " 0.0       0.111111  0.0       0.0          0.0       0.0       0.0     \n",
       " 0.0       0.0       0.111111  0.0          0.0       0.0       0.0     \n",
       " 0.0       0.0       0.0       0.111111     0.0       0.0       0.0     \n",
       " 0.0       0.0       0.0       0.0          0.0       0.0       0.0     \n",
       " 0.0       0.0       0.0       0.0       …  0.0       0.0       0.0     \n",
       " 0.0       0.0       0.0       0.0          0.111111  0.0       0.0     \n",
       " 0.0       0.0       0.0       0.0          0.0       0.111111  0.0     \n",
       " 0.0       0.0       0.0       0.0          0.0       0.0       0.111111"
      ]
     },
     "execution_count": 6,
     "metadata": {},
     "output_type": "execute_result"
    }
   ],
   "source": [
    "AB = AB_classic #układ klasyczny\n",
    "# AB = AB_entangled #układ splątany"
   ]
  },
  {
   "cell_type": "markdown",
   "metadata": {},
   "source": [
    "### Rozkład ABC"
   ]
  },
  {
   "cell_type": "code",
   "execution_count": 7,
   "metadata": {},
   "outputs": [
    {
     "data": {
      "text/plain": [
       "1.0000000000000002"
      ]
     },
     "execution_count": 7,
     "metadata": {},
     "output_type": "execute_result"
    }
   ],
   "source": [
    "# wyliczenie roABC znając rozkład AB\n",
    "roABC = star(roCwAB, kron(AB, id(3))) #equation between (#19 and #20)\n",
    "\n",
    "trace(roABC)"
   ]
  },
  {
   "cell_type": "markdown",
   "metadata": {},
   "source": [
    "## Rozkład A bez znajomości C i B\n",
    "\n",
    "W obu przypadkch powinien być jednostajny - $[ \\frac{1}{3}, \\frac{1}{3},\\frac{1}{3}] $"
   ]
  },
  {
   "cell_type": "code",
   "execution_count": 8,
   "metadata": {},
   "outputs": [
    {
     "data": {
      "text/plain": [
       "3×3 Array{Float64,2}:\n",
       " 0.333333  0.0       0.0     \n",
       " 0.0       0.333333  0.0     \n",
       " 0.0       0.0       0.333333"
      ]
     },
     "execution_count": 8,
     "metadata": {},
     "output_type": "execute_result"
    }
   ],
   "source": [
    "roA = ptrace(roABC, [3,3,3], [2,3])\n",
    "real(roA)"
   ]
  },
  {
   "cell_type": "markdown",
   "metadata": {},
   "source": [
    "W poniższych przykładach liczymy rozkłady A przy znanym C, B lub obu. Korzystamy z transformacji analogicznych do np.:\n",
    "\n",
    "$$\n",
    "\\rho_{ABC} \\rightarrow \\rho_{A,B=b,C}\n",
    "$$\n",
    "\n",
    "Opisanej w równaniu #14"
   ]
  },
  {
   "cell_type": "markdown",
   "metadata": {},
   "source": [
    "## Rozkład A przy znanym C\n",
    "\n",
    "Wnioskowanie gdzie jest nagroda na podstawie drzwi, które otwarł prowadzący.\n",
    "Jeżeli wiemy, które drzwi otwarł prowadzący, to wiemy że nagroda znajduje się w jednych z pozostałych dwojga drzwi. \n",
    "\n",
    "Czyli **wydaje nam się, że** dwoje drzwi o numerach $\\neq C$ powinny mieć prawdopodobieństwa $\\frac{1}{2}$ niezależnie od tego, czy między $A$ a $B$ są efekty kwantowe - a drzwi o numerze $=C$ - prawdopodobieństwo 0"
   ]
  },
  {
   "cell_type": "code",
   "execution_count": 9,
   "metadata": {},
   "outputs": [
    {
     "data": {
      "text/plain": [
       "3×3 Array{Float64,2}:\n",
       " 0.0  0.0  0.0\n",
       " 0.0  0.5  0.0\n",
       " 0.0  0.0  0.5"
      ]
     },
     "execution_count": 9,
     "metadata": {},
     "output_type": "execute_result"
    }
   ],
   "source": [
    "c = 0\n",
    "coper = ketbra(c,c,3)\n",
    "\n",
    "# zdarzenie C=1 w systemie\n",
    "roABc = (kron(kron(id(3), id(3)), coper) * roABC * kron(kron(id(3), id(3)), coper) ) / \n",
    "trace(kron(kron(id(3), id(3)), coper)  * roABC); \n",
    "\n",
    "roA = ptrace(roABc, [3,3,3], [2,3])\n",
    "real(roA)"
   ]
  },
  {
   "cell_type": "markdown",
   "metadata": {},
   "source": [
    "Okazuje się jednak nieintuicyjnie, że gdy nieokreślone jest $B$, to nieokreślone pozostaje $A$ - nawet mimo znajomości $C$."
   ]
  },
  {
   "cell_type": "markdown",
   "metadata": {},
   "source": [
    "## Rozkład A przy znanym B\n",
    "\n",
    "W przypadku klasycznym powininen być jednostajny - $[ \\frac{1}{3}, \\frac{1}{3},\\frac{1}{3}] $, jako że są to zdarzenia niezależne.\n",
    "\n",
    "W przypadku splątanym, $A=B$ powinno mieć prawdopodobieństwo = 1 "
   ]
  },
  {
   "cell_type": "code",
   "execution_count": 10,
   "metadata": {},
   "outputs": [
    {
     "data": {
      "text/plain": [
       "3×3 Array{Float64,2}:\n",
       " 0.333333  0.0       0.0     \n",
       " 0.0       0.333333  0.0     \n",
       " 0.0       0.0       0.333333"
      ]
     },
     "execution_count": 10,
     "metadata": {},
     "output_type": "execute_result"
    }
   ],
   "source": [
    "b = 0\n",
    "boper = ketbra(b,b,3) #roB\n",
    "\n",
    "# zdarzenie b=0 w systemie\n",
    "roAbC = (kron(kron(id(3), boper), id(3)) * roABC * kron(kron(id(3), boper), id(3))) / \n",
    "trace(kron(kron(id(3), boper), id(3)) * roABC); \n",
    "\n",
    "roA = ptrace(roAbC, [3,3,3], [2,3])\n",
    "real(roA)"
   ]
  },
  {
   "cell_type": "markdown",
   "metadata": {},
   "source": [
    "## Rozkład A przy znanych B oraz C\n",
    "\n",
    "W przypadku klasycznym, prawdopodobieństwo $A=B$ wynosi $\\frac{1}{3}$, $A=C$ wynosi 0, zaś $A\\neq B \\neq C $ wynosi $\\frac{2}{3}$\n",
    "\n",
    "W przypadku splątanym, $A=B$ powinno mieć prawdopodobieństwo = 1 "
   ]
  },
  {
   "cell_type": "code",
   "execution_count": 55,
   "metadata": {},
   "outputs": [
    {
     "data": {
      "text/plain": [
       "3×3 Array{Float64,2}:\n",
       " 0.333333  0.0  0.0     \n",
       " 0.0       0.0  0.0     \n",
       " 0.0       0.0  0.666667"
      ]
     },
     "execution_count": 55,
     "metadata": {},
     "output_type": "execute_result"
    }
   ],
   "source": [
    "b = 0\n",
    "boper = ketbra(b,b,3)\n",
    "boper= boper\n",
    "c = 1\n",
    "coper = ketbra(c,c,3)\n",
    "\n",
    "# zdarzenie b=0 w systemie\n",
    "roAbC = (kron(kron(id(3), boper), id(3)) * roABC * kron(kron(id(3), boper), id(3))) / \n",
    "trace(kron(kron(id(3), boper), id(3)) * roABC); \n",
    "\n",
    "#zdarzenie c=1 w systemie\n",
    "roAbc = (kron(kron(id(3), id(3)), coper) * roAbC * kron(kron(id(3), id(3)), coper) ) / \n",
    "trace(kron(kron(id(3), id(3)), coper)  * roAbC); \n",
    "\n",
    "roA = ptrace(roAbc, [3,3,3], [2,3])\n",
    "real(roA)"
   ]
  },
  {
   "cell_type": "code",
   "execution_count": 71,
   "metadata": {},
   "outputs": [
    {
     "data": {
      "text/plain": [
       "3×3 Array{Float64,2}:\n",
       " 0.333333  0.0       0.0     \n",
       " 0.0       0.333333  0.0     \n",
       " 0.0       0.0       0.333333"
      ]
     },
     "execution_count": 71,
     "metadata": {},
     "output_type": "execute_result"
    }
   ],
   "source": [
    "roAB = AB_entangled\n",
    "bmat = foldl(kron, 1, [(id(3)), boper])\n",
    "\n",
    "\n",
    "roAb = (bmat * roAB * bmat) / trace(bmat * roAB)\n",
    "\n",
    "roA = ptrace(roAB, [3,3], [2])\n",
    "roB = ptrace(roAB, [3,3], [1])\n",
    "\n",
    "roAbC = star(roCwAB, kron(kron(roA, roB), id(3)))\n",
    "\n",
    "# roAbC = (bmat * roABC * bmat ) / \n",
    "# trace(bmat * roABC); \n",
    "\n",
    "roA = ptrace(roAbC, [3,3,3], [2,3])\n",
    "real(roA)"
   ]
  },
  {
   "cell_type": "code",
   "execution_count": 50,
   "metadata": {},
   "outputs": [
    {
     "data": {
      "text/plain": [
       "3×3 Array{Float64,2}:\n",
       " 0.111111  0.0  0.0     \n",
       " 0.0       0.0  0.0     \n",
       " 0.0       0.0  0.222222"
      ]
     },
     "execution_count": 50,
     "metadata": {},
     "output_type": "execute_result"
    }
   ],
   "source": [
    "roAbc = (kron(kron(id(3), boper), coper) * roABC * kron(kron(id(3), boper), coper) ) / \n",
    "trace(kron(kron(id(3), boper), coper)  * roABC); \n",
    "\n",
    "roA = ptrace(roAbc, [3,3,3], [2,3])\n",
    "real(roA)"
   ]
  },
  {
   "cell_type": "markdown",
   "metadata": {
    "collapsed": true
   },
   "source": [
    "### C przy znajomości A i B"
   ]
  },
  {
   "cell_type": "code",
   "execution_count": 14,
   "metadata": {},
   "outputs": [
    {
     "data": {
      "text/plain": [
       "3×3 Array{Float64,2}:\n",
       " 0.0  0.0  0.0\n",
       " 0.0  0.5  0.0\n",
       " 0.0  0.0  0.5"
      ]
     },
     "execution_count": 14,
     "metadata": {},
     "output_type": "execute_result"
    }
   ],
   "source": [
    "a = 0\n",
    "aoper = ketbra(a,a,3) \n",
    "b = 0\n",
    "boper = ketbra(b,b,3)\n",
    "\n",
    "# zdarzenie b=0 w systemie\n",
    "roAbC = (kron(kron(id(3), boper), id(3)) * roABC * kron(kron(id(3), boper), id(3))) / \n",
    "trace(kron(kron(id(3), boper), id(3)) * roABC); \n",
    "\n",
    "#zdarzenie c=1 w systemie\n",
    "roabC = (kron(aoper, kron(id(3), id(3))) * roAbC * kron(aoper, kron(id(3), id(3))) ) / \n",
    "trace(kron(aoper, kron(id(3), id(3)))  * roAbC); \n",
    "\n",
    "roC = ptrace(roabC, [3,3,3], [1,2])\n",
    "real(roC)"
   ]
  }
 ],
 "metadata": {
  "kernelspec": {
   "display_name": "Julia 0.6.2",
   "language": "julia",
   "name": "julia-0.6"
  },
  "language_info": {
   "file_extension": ".jl",
   "mimetype": "application/julia",
   "name": "julia",
   "version": "0.6.2"
  }
 },
 "nbformat": 4,
 "nbformat_minor": 2
}
