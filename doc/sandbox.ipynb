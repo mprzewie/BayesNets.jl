{
 "cells": [
  {
   "cell_type": "code",
   "execution_count": 1,
   "metadata": {
    "scrolled": true
   },
   "outputs": [
    {
     "name": "stderr",
     "output_type": "stream",
     "text": [
      "\u001b[1m\u001b[36mINFO: \u001b[39m\u001b[22m\u001b[36mRecompiling stale cache file /home/marcin/.juliapro-0.6.2.1/lib/v0.6/BayesNets.ji for module BayesNets.\n",
      "\u001b[39m"
     ]
    }
   ],
   "source": [
    "using BayesNets"
   ]
  },
  {
   "cell_type": "code",
   "execution_count": 2,
   "metadata": {},
   "outputs": [],
   "source": [
    "roCwAB = HermitianMatrix([\n",
    "        0,1/2,1/2, #A=0, B=0\n",
    "        0,0,1, #A=0, B=1\n",
    "        0,1,0, #A=0, B=2\n",
    "        0,0,1, #A=1, B=0\n",
    "        1/2,0,1/2, #A=1, B=1\n",
    "        1,0,0, #A=1, B=2\n",
    "        0,1,0, #A=2, B=0\n",
    "        1,0,0, #A=2, B=1\n",
    "        1/2,1/2,0 #A=2, B=2\n",
    "        ]); #\n"
   ]
  },
  {
   "cell_type": "code",
   "execution_count": 3,
   "metadata": {},
   "outputs": [
    {
     "data": {
      "text/plain": [
       "BayesNets.DiscreteMCPD{BayesNets.HermitianMatrix}(:c, Symbol[:a, :b], [3, 3], 3, BayesNets.HermitianMatrix{Float64}(\n",
       "K: 27\n",
       "p: [0.0 0.0 … 0.0 0.0; 0.0 0.5 … 0.0 0.0; … ; 0.0 0.0 … 0.5 0.0; 0.0 0.0 … 0.0 0.0]\n",
       ")\n",
       ")"
      ]
     },
     "execution_count": 3,
     "metadata": {},
     "output_type": "execute_result"
    }
   ],
   "source": [
    "dmcpd = DiscreteQCPD(:c, [:a, :b], [3,3], 3, roCwAB)"
   ]
  },
  {
   "cell_type": "code",
   "execution_count": 4,
   "metadata": {},
   "outputs": [
    {
     "data": {
      "text/plain": [
       "3×3 Array{Complex{Float64},2}:\n",
       " 1.0+0.0im  0.0+0.0im  0.0+0.0im\n",
       " 0.0+0.0im  0.0+0.0im  0.0+0.0im\n",
       " 0.0+0.0im  0.0+0.0im  0.0+0.0im"
      ]
     },
     "execution_count": 4,
     "metadata": {},
     "output_type": "execute_result"
    }
   ],
   "source": [
    "using QI\n",
    "aoper = ketbra(0,0,3)\n",
    "boper = ketbra(1,1,3)\n",
    "ass = Assignment(:a=>aoper, :b => boper)\n",
    "ass[:a]"
   ]
  },
  {
   "cell_type": "code",
   "execution_count": 6,
   "metadata": {},
   "outputs": [
    {
     "data": {
      "text/plain": [
       "3×3 Array{Complex{Float64},2}:\n",
       " 0.0+0.0im  0.0+0.0im  0.0+0.0im\n",
       " 0.0+0.0im  0.0+0.0im  0.0+0.0im\n",
       " 0.0+0.0im  0.0+0.0im  1.0+0.0im"
      ]
     },
     "execution_count": 6,
     "metadata": {},
     "output_type": "execute_result"
    }
   ],
   "source": [
    "dmcpd(ass).p"
   ]
  }
 ],
 "metadata": {
  "kernelspec": {
   "display_name": "Julia 0.6.2",
   "language": "julia",
   "name": "julia-0.6"
  },
  "language_info": {
   "file_extension": ".jl",
   "mimetype": "application/julia",
   "name": "julia",
   "version": "0.6.2"
  }
 },
 "nbformat": 4,
 "nbformat_minor": 2
}
